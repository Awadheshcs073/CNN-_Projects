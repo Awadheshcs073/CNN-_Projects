{
 "cells": [
  {
   "cell_type": "code",
   "execution_count": 90,
   "metadata": {
    "colab": {},
    "colab_type": "code",
    "id": "M4nPCZ4CHTBk"
   },
   "outputs": [],
   "source": [
    "### NLP_Assign_6_Compare_Docs_Matrix.ipynb"
   ]
  },
  {
   "cell_type": "code",
   "execution_count": 11,
   "metadata": {
    "colab": {
     "base_uri": "https://localhost:8080/",
     "height": 171
    },
    "colab_type": "code",
    "id": "xiXP5Cn-DcxL",
    "outputId": "a4a566ae-6da6-4f4a-902a-c5ca69005bff"
   },
   "outputs": [
    {
     "name": "stderr",
     "output_type": "stream",
     "text": [
      "[nltk_data] Downloading package punkt to\n",
      "[nltk_data]     C:\\Users\\awadh\\AppData\\Roaming\\nltk_data...\n",
      "[nltk_data]   Package punkt is already up-to-date!\n",
      "[nltk_data] Downloading package stopwords to\n",
      "[nltk_data]     C:\\Users\\awadh\\AppData\\Roaming\\nltk_data...\n",
      "[nltk_data]   Package stopwords is already up-to-date!\n",
      "[nltk_data] Downloading package wordnet to\n",
      "[nltk_data]     C:\\Users\\awadh\\AppData\\Roaming\\nltk_data...\n",
      "[nltk_data]   Package wordnet is already up-to-date!\n",
      "[nltk_data] Downloading package vader_lexicon to\n",
      "[nltk_data]     C:\\Users\\awadh\\AppData\\Roaming\\nltk_data...\n",
      "[nltk_data]   Package vader_lexicon is already up-to-date!\n"
     ]
    },
    {
     "data": {
      "text/plain": [
       "True"
      ]
     },
     "execution_count": 11,
     "metadata": {},
     "output_type": "execute_result"
    }
   ],
   "source": [
    "import nltk\n",
    "nltk.download('punkt')\n",
    "nltk.download('stopwords')\n",
    "nltk.download('wordnet')\n",
    "nltk.download('vader_lexicon')"
   ]
  },
  {
   "cell_type": "code",
   "execution_count": 12,
   "metadata": {
    "colab": {},
    "colab_type": "code",
    "id": "3zXDM7KgDx1r"
   },
   "outputs": [],
   "source": [
    "import string\n",
    "from collections import Counter\n",
    "import matplotlib.pyplot as plt\n",
    "from nltk.corpus import stopwords\n",
    "from nltk.sentiment.vader import SentimentIntensityAnalyzer\n",
    "from nltk.stem import WordNetLemmatizer\n",
    "from nltk.tokenize import word_tokenize\n",
    "import re\n",
    "from nltk.corpus import stopwords\n",
    "from nltk.stem.porter import PorterStemmer\n",
    "from nltk.stem import WordNetLemmatizer\n",
    "import warnings\n",
    "warnings.filterwarnings('ignore')"
   ]
  },
  {
   "cell_type": "code",
   "execution_count": 13,
   "metadata": {
    "colab": {},
    "colab_type": "code",
    "id": "K0yqy1__D0fY"
   },
   "outputs": [],
   "source": [
    "text = open(r'C:\\Users\\awadh\\rammandir2.txt', encoding=\"utf-8\").read()\n",
    "text2 = open(r'C:\\Users\\awadh\\rammandir3.txt', encoding=\"utf-8\").read()"
   ]
  },
  {
   "cell_type": "code",
   "execution_count": 14,
   "metadata": {
    "colab": {
     "base_uri": "https://localhost:8080/",
     "height": 155
    },
    "colab_type": "code",
    "id": "GUc3IpNRD8Fu",
    "outputId": "51362f9c-f2f0-4f78-b6b8-dbc03a137fad"
   },
   "outputs": [
    {
     "data": {
      "text/plain": [
       "'there was always a profound ambiguity that defined the mughal shrine which existed in ayodhya until the afternoon of december 6, 1992. outwardly, it had all the appearance of a mosque built in the early 16th century. however, inside was a ram temple that had been functioning as such since the ram lalla idol was placed there in 1949.\\n\\ninterestingly, the ambiguity was not entirely a post-independence phenomenon. the local belief that babur’s general, mir baqi, had built the babri masjid on the site of a shrine venerated as ram’s janmasthan (birthplace) resonated in avadh at least. however, the loss of the janmasthan didn’t imply that hindus wiped out its significance from their collective memory. on the perimeter of the mosque they created a ram chabutra where they offered puja to lord ram. in a way it was akin to jews praying at the outer wall of the sacred temple mount in jerusalem over which the community had lost control.\\n\\nthe demolition of the babri shrine in 1992 was admittedly in violation of assurances given to the supreme court. however, the removal of the disputed structure and the resumption of puja in a hastily constructed, makeshift temple removed all traces of ambiguity. in an evening broadcast to the nation on the night of the demolition the then prime minister p v narasimha rao promised to rebuild a mosque on the site, but this assurance lacked any real commitment and was quickly forgotten. instead, the issue now centred on the construction of a grand temple on the site of the janmasthan. those opposed to the temple preferred the makeshift temple — surrounded by barricades and restricted entry of devotees — to persist indefinitely, whereas the ram bhakts wanted an end to judicial prevarication and a categorical judicial order. with the bhoomi pujan on august 5 performed by prime minister narendra modi, the long dispute is approaching closure.\\n\\nthe factors that contributed to a local dispute assuming a national character and reshaping politics quite markedly will, naturally, preoccupy future historians. the difference between the reactions to the 1992 demolition and last wednesday’s bhoomipuja would indicate that india has changed very significantly. if the former was marked by a cocktail of boisterous celebrations, anger and violent protests — recall the mumbai riots and the serial bomb blasts in early 1993—the latter has been greeted with dignified observance and an anticipation of national reawakening. the ram temple has entered the realms of common sense, among hindus at least.\\n\\nin his speech at ayodhya, modi described the ram temple movement as a manifestation of the nationalist impulses that drove the freedom movement. additionally, he characterised the proposed temple as a “modern representation of our culture.” the sceptics have been outraged. they have expressed fears that the removal of ambiguity in ayodhya is a metaphor for a hindu state.\\n\\nthe culmination of the freedom struggle in 1947 led to the establishment of a political order that was laid out in the constitution of 1950. the constitution, among other things, defined the parameters of public life and loosely identified the values that would define the new republic. yet, while the constitution spelt out the ‘rule of law’ and established equal citizenship — with some special privileges for communities suffering historical disadvantage — it naturally steered clear of the larger issue of nationhood.\\n\\nthis understandable silence was partly filled by the initial adherence to what can loosely be called the nehruvian consensus that was marked by the three pillars of secularism, socialism and non-alignment. however, with many of the earlier shibboleths discarded and the old establishment gradually edged out of the power structure, there has been a tendency to equate nationhood with the constitution. this version of ‘constitutional patriotism’ proceeded on the belief that the starting point of indian existence was republic day 1950 — the proverbial year zero. india’s inheritance was sought to be covered in a haze.\\n\\nthe ram temple as a symbol of modern india does not negate the constitution. its construction was, after all, sanctioned by the rule of law. what it, however, does is establish a link between an india that has existed from antiquity to the present. it proffers the belief that india is a continuum and seeks to establish the indispensable connect — as edmund burke put it — between the living, the dead and the unborn. the ‘modern’ ram temple establishes an alternative view of civilisational nationhood, a facet of our being that even jawaharlal nehru acknowledged but didn’t inject into his scheme of modernity. the ram temple has the potential to enlarge the indian imagination beyond transient modernity'"
      ]
     },
     "execution_count": 14,
     "metadata": {},
     "output_type": "execute_result"
    }
   ],
   "source": [
    "lower_case = text.lower()\n",
    "lower_case"
   ]
  },
  {
   "cell_type": "code",
   "execution_count": 5,
   "metadata": {
    "colab": {
     "base_uri": "https://localhost:8080/",
     "height": 155
    },
    "colab_type": "code",
    "id": "zYM__NWNrNmi",
    "outputId": "8701ddc1-dcb5-4e4d-e85c-f22d4f2fe786"
   },
   "outputs": [
    {
     "data": {
      "text/plain": [
       "'societal collapse, also known as the civilizational collapse is the fall of a complex human society. possible causes of a societal collapse include natural catastrophe, war, pestilence, and depopulation. a collapsed society may revert to a more primitive state, be absorbed into a stronger society, or completely disappear. disintegration may be relatively abrupt, like the maya civilization, or gradual, as in the case of the fall of the western roman empire. examples of such societal collapses are-- the anatolian hittite empire, the mycenaean civilization, the manchus of manchuria, the mesoamerican mayas, the angkors in cambodia, the han and tang dynasties in china, the mughal empire, infamously called the \"gunpowder empire, the mali empire and of course, the phoenician empire which centuries back ruled the mediterranean, from cyprus to the iberian peninsula, before disintegrating into oblivion.\\n\\nin one of his speeches, sadguru jaggi vasudev said, “in the past we were divided into at least 200 different states; we had 200 political entities; yet we were recognised as one nation. we eat differently; we dress differently; we speak different languages, yet we remain one. what holds us as one nation is the spiritual thread.” well, truer words could not have been said. clearly, it was the spiritual strength that kept india intact as a nation, and hindus as a living civilisation. \\n\\nthe ancient greek, roman and egyptian civilisations are long dead. you find them on the pages of history books. not so with the indian, the hindu civilisation, which has not only survived but is thriving. what can the hindu civilisation contribute to the world we are living in and, more importantly, to the world-thought? sadhguru explained, “non-imposition of any belief system, and to encourage ‘seeking.’ it does not matter what the scriptures say. it does not matter what the leaders say. each person, every individual must seek.”\\nyes, hindu thought, hindu mind, hindu philosophy does not depend upon any dogma or doctrine. religious rituals are acknowledged and appreciated, but the \"hindu mind\" also recognises that spirituality is not built upon the platform of such rituals. there is not a single ritual that is enforced upon all hindus. none. there is no uniformity. this freedom of thought, freedom to express one’s thoughts and beliefs, and to act according to one’s belief, is the survival-secret of the hindu civilisation, as also its contribution to the world, according to noted spiritual activist, anand krishna.\\n\\nthe significance of the ramayan and shri ram, in sustaining and strengthening the hindu faith, in the face of innumerable onslaughts is, therefore, something that can never be undermined, as it is the binding glue that has shrugged off every form of religious expansionism by supposedly liberal, western forces. the spiritual fervour with which hindus worship shri ram and imbibe his ethos is evident in many respects, especially so with regard to prabhu ram\\'s adherence to dharma, said the renowned kidambi narayanan, in a discourse. lord ram, the prince who later became the king of ayodhya, after a 14-year long exile in the dandaka forest, promised his father dasarath, that he would go to the forest and not stake his claim to the throne. despite his sibling bharat\\'s insistence, shri ram explained to bharat that the dharma sastras said that only a father had the right to decide what to do with his property.\\nthat being the case, how could ram interfere in dasarath\\'s right to decide who should be the next king of ayodhya? moreover, dasarath was the king, and how could a king\\'s order be disobeyed? dasarath had also instructed and taught his children and in this sense, he had been an acharya to them. and one could not disobey one\\'s acharya. the reason for dasarath\\'s decisions may have been motivated by his wife, kaikeyi, but ram would still do as instructed by his king and his father, said shri ram to bharat. \\n\\n '"
      ]
     },
     "execution_count": 5,
     "metadata": {},
     "output_type": "execute_result"
    }
   ],
   "source": [
    "lower_case2 = text2.lower()\n",
    "lower_case2"
   ]
  },
  {
   "cell_type": "code",
   "execution_count": 96,
   "metadata": {
    "colab": {},
    "colab_type": "code",
    "id": "YqFHjkORQFF7"
   },
   "outputs": [],
   "source": [
    "# make a dictionary of Contractions\n",
    "\n",
    "contraction_mapping={\n",
    "\"ain't\": \"is not\",\n",
    "\"aren't\": \"are not\",\n",
    "\"can't\": \"cannot\",\n",
    "\"can't've\": \"cannot have\",\n",
    "\"'cause\": \"because\",\n",
    "\"could've\": \"could have\",\n",
    "\"couldn't\": \"could not\",\n",
    "\"couldn't've\": \"could not have\",\n",
    "\"didn't\": \"did not\",\n",
    "\"doesn't\": \"does not\",\n",
    "\"don't\": \"do not\",\n",
    "\"hadn't\": \"had not\",\n",
    "\"hadn't've\": \"had not have\",\n",
    "\"hasn't\": \"has not\",\n",
    "\"haven't\": \"have not\",\n",
    "\"he'd\": \"he would\",\n",
    "\"he'd've\": \"he would have\",\n",
    "\"he'll\": \"he will\",\n",
    "\"he'll've\": \"he he will have\",\n",
    "\"he's\": \"he is\",\n",
    "\"how'd\": \"how did\",\n",
    "\"how'd'y\": \"how do you\",\n",
    "\"how'll\": \"how will\",\n",
    "\"how's\": \"how is\",\n",
    "\"I'd\": \"I would\",\n",
    "\"I'd've\": \"I would have\",\n",
    "\"I'll\": \"I will\",\n",
    "\"I'll've\": \"I will have\",\n",
    "\"I'm\": \"I am\",\n",
    "\"I've\": \"I have\",\n",
    "\"i'd\": \"i would\",\n",
    "\"i'd've\": \"i would have\",\n",
    "\"i'll\": \"i will\",\n",
    "\"i'll've\": \"i will have\",\n",
    "\"i'm\": \"i am\",\n",
    "\"i've\": \"i have\",\n",
    "\"isn't\": \"is not\",\n",
    "\"it'd\": \"it would\",\n",
    "\"it'd've\": \"it would have\",\n",
    "\"it'll\": \"it will\",\n",
    "\"it'll've\": \"it will have\",\n",
    "\"it's\": \"it is\",\n",
    "\"let's\": \"let us\",\n",
    "\"ma'am\": \"madam\",\n",
    "\"mayn't\": \"may not\",\n",
    "\"might've\": \"might have\",\n",
    "\"mightn't\": \"might not\",\n",
    "\"mightn't've\": \"might not have\",\n",
    "\"must've\": \"must have\",\n",
    "\"mustn't\": \"must not\",\n",
    "\"mustn't've\": \"must not have\",\n",
    "\"needn't\": \"need not\",\n",
    "\"needn't've\": \"need not have\",\n",
    "\"o'clock\": \"of the clock\",\n",
    "\"oughtn't\": \"ought not\",\n",
    "\"oughtn't've\": \"ought not have\",\n",
    "\"shan't\": \"shall not\",\n",
    "\"sha'n't\": \"shall not\",\n",
    "\"shan't've\": \"shall not have\",\n",
    "\"she'd\": \"she would\",\n",
    "\"she'd've\": \"she would have\",\n",
    "\"she'll\": \"she will\",\n",
    "\"she'll've\": \"she will have\",\n",
    "\"she's\": \"she is\",\n",
    "\"should've\": \"should have\",\n",
    "\"shouldn't\": \"should not\",\n",
    "\"shouldn't've\": \"should not have\",\n",
    "\"so've\": \"so have\",\n",
    "\"so's\": \"so as\",\n",
    "\"that'd\": \"that would\",\n",
    "\"that'd've\": \"that would have\",\n",
    "\"that's\": \"that is\",\n",
    "\"there'd\": \"there would\",\n",
    "\"there'd've\": \"there would have\",\n",
    "\"there's\": \"there is\",\n",
    "\"they'd\": \"they would\",\n",
    "\"they'd've\": \"they would have\",\n",
    "\"they'll\": \"they will\",\n",
    "\"they'll've\": \"they will have\",\n",
    "\"they're\": \"they are\",\n",
    "\"they've\": \"they have\",\n",
    "\"to've\": \"to have\",\n",
    "\"wasn't\": \"was not\",\n",
    "\"we'd\": \"we would\",\n",
    "\"we'd've\": \"we would have\",\n",
    "\"we'll\": \"we will\",\n",
    "\"we'll've\": \"we will have\",\n",
    "\"we're\": \"we are\",\n",
    "\"we've\": \"we have\",\n",
    "\"weren't\": \"were not\",\n",
    "\"what'll\": \"what will\",\n",
    "\"what'll've\": \"what will have\",\n",
    "\"what're\": \"what are\",\n",
    "\"what's\": \"what is\",\n",
    "\"what've\": \"what have\",\n",
    "\"when's\": \"when is\",\n",
    "\"when've\": \"when have\",\n",
    "\"where'd\": \"where did\",\n",
    "\"where's\": \"where is\",\n",
    "\"where've\": \"where have\",\n",
    "\"who'll\": \"who will\",\n",
    "\"who'll've\": \"who will have\",\n",
    "\"who's\": \"who is\",\n",
    "\"who've\": \"who have\",\n",
    "\"why's\": \"why is\",\n",
    "\"why've\": \"why have\",\n",
    "\"will've\": \"will have\",\n",
    "\"won't\": \"will not\",\n",
    "\"won't've\": \"will not have\",\n",
    "\"would've\": \"would have\",\n",
    "\"wouldn't\": \"would not\",\n",
    "\"wouldn't've\": \"would not have\",\n",
    "\"y'all\": \"you all\",\n",
    "\"y'all'd\": \"you all would\",\n",
    "\"y'all'd've\": \"you all would have\",\n",
    "\"y'all're\": \"you all are\",\n",
    "\"y'all've\": \"you all have\",\n",
    "\"you'd\": \"you would\",\n",
    "\"you'd've\": \"you would have\",\n",
    "\"you'll\": \"you will\",\n",
    "\"you'll've\": \"you will have\",\n",
    "\"you're\": \"you are\",\n",
    "\"you've\": \"you have\"\n",
    "}"
   ]
  },
  {
   "cell_type": "code",
   "execution_count": 15,
   "metadata": {
    "colab": {},
    "colab_type": "code",
    "id": "Y6JNSA6vQGRd"
   },
   "outputs": [],
   "source": [
    "# function to pre-process the text\n",
    "def cleaner(text):\n",
    "    newString=re.sub(r\"@[a-zA-Z0-9]+\",\"\",text)         # removing user mentions\n",
    "    newString=re.sub(\"#\",\"\",newString) \n",
    "    #newString=' '.join([contraction_mapping[t] if t in contraction_mapping else t for t in newString.split(\" \")])\n",
    "    x=re.sub(r'http\\S+','',newString)                  # remove URL's\n",
    "    newString=re.sub(r\"'s\\b\",\" is\",newString)         # removing 's\n",
    "    x=re.sub(r'[%#@$&!+|ð¦±]','',newString)          # Remove spacial char\n",
    "    x=re.sub(r'[.,:;]','',newString)                   # remove punctuations mark\n",
    "    newString=re.sub(\"[^a-zA-Z]\",\" \",newString)         # fetching out only char\n",
    "    #lower_case=letters_only.lower()                     # converting everything in lowercase\n",
    "    words=newString.split()                            # split based on space to remove multiple spaces\n",
    "    return (\" \".join(words)).strip()"
   ]
  },
  {
   "cell_type": "code",
   "execution_count": 16,
   "metadata": {
    "colab": {
     "base_uri": "https://localhost:8080/",
     "height": 155
    },
    "colab_type": "code",
    "id": "YK20N_cUQL-u",
    "outputId": "6c1096bc-0d33-445c-f7b2-f4277465d0a6"
   },
   "outputs": [
    {
     "data": {
      "text/plain": [
       "'there was always a profound ambiguity that defined the mughal shrine which existed in ayodhya until the afternoon of december outwardly it had all the appearance of a mosque built in the early th century however inside was a ram temple that had been functioning as such since the ram lalla idol was placed there in interestingly the ambiguity was not entirely a post independence phenomenon the local belief that babur s general mir baqi had built the babri masjid on the site of a shrine venerated as ram s janmasthan birthplace resonated in avadh at least however the loss of the janmasthan didn t imply that hindus wiped out its significance from their collective memory on the perimeter of the mosque they created a ram chabutra where they offered puja to lord ram in a way it was akin to jews praying at the outer wall of the sacred temple mount in jerusalem over which the community had lost control the demolition of the babri shrine in was admittedly in violation of assurances given to the supreme court however the removal of the disputed structure and the resumption of puja in a hastily constructed makeshift temple removed all traces of ambiguity in an evening broadcast to the nation on the night of the demolition the then prime minister p v narasimha rao promised to rebuild a mosque on the site but this assurance lacked any real commitment and was quickly forgotten instead the issue now centred on the construction of a grand temple on the site of the janmasthan those opposed to the temple preferred the makeshift temple surrounded by barricades and restricted entry of devotees to persist indefinitely whereas the ram bhakts wanted an end to judicial prevarication and a categorical judicial order with the bhoomi pujan on august performed by prime minister narendra modi the long dispute is approaching closure the factors that contributed to a local dispute assuming a national character and reshaping politics quite markedly will naturally preoccupy future historians the difference between the reactions to the demolition and last wednesday s bhoomipuja would indicate that india has changed very significantly if the former was marked by a cocktail of boisterous celebrations anger and violent protests recall the mumbai riots and the serial bomb blasts in early the latter has been greeted with dignified observance and an anticipation of national reawakening the ram temple has entered the realms of common sense among hindus at least in his speech at ayodhya modi described the ram temple movement as a manifestation of the nationalist impulses that drove the freedom movement additionally he characterised the proposed temple as a modern representation of our culture the sceptics have been outraged they have expressed fears that the removal of ambiguity in ayodhya is a metaphor for a hindu state the culmination of the freedom struggle in led to the establishment of a political order that was laid out in the constitution of the constitution among other things defined the parameters of public life and loosely identified the values that would define the new republic yet while the constitution spelt out the rule of law and established equal citizenship with some special privileges for communities suffering historical disadvantage it naturally steered clear of the larger issue of nationhood this understandable silence was partly filled by the initial adherence to what can loosely be called the nehruvian consensus that was marked by the three pillars of secularism socialism and non alignment however with many of the earlier shibboleths discarded and the old establishment gradually edged out of the power structure there has been a tendency to equate nationhood with the constitution this version of constitutional patriotism proceeded on the belief that the starting point of indian existence was republic day the proverbial year zero india s inheritance was sought to be covered in a haze the ram temple as a symbol of modern india does not negate the constitution its construction was after all sanctioned by the rule of law what it however does is establish a link between an india that has existed from antiquity to the present it proffers the belief that india is a continuum and seeks to establish the indispensable connect as edmund burke put it between the living the dead and the unborn the modern ram temple establishes an alternative view of civilisational nationhood a facet of our being that even jawaharlal nehru acknowledged but didn t inject into his scheme of modernity the ram temple has the potential to enlarge the indian imagination beyond transient modernity'"
      ]
     },
     "execution_count": 16,
     "metadata": {},
     "output_type": "execute_result"
    }
   ],
   "source": [
    "cleaned_text = cleaner(lower_case)\n",
    "cleaned_text"
   ]
  },
  {
   "cell_type": "code",
   "execution_count": 18,
   "metadata": {
    "colab": {
     "base_uri": "https://localhost:8080/",
     "height": 155
    },
    "colab_type": "code",
    "id": "F0chDRSMQMj-",
    "outputId": "3b2a6331-48eb-4d69-d4f0-cc89713c3e00"
   },
   "outputs": [
    {
     "data": {
      "text/plain": [
       "'societal collapse also known as the civilizational collapse is the fall of a complex human society possible causes of a societal collapse include natural catastrophe war pestilence and depopulation a collapsed society may revert to a more primitive state be absorbed into a stronger society or completely disappear disintegration may be relatively abrupt like the maya civilization or gradual as in the case of the fall of the western roman empire examples of such societal collapses are the anatolian hittite empire the mycenaean civilization the manchus of manchuria the mesoamerican mayas the angkors in cambodia the han and tang dynasties in china the mughal empire infamously called the gunpowder empire the mali empire and of course the phoenician empire which centuries back ruled the mediterranean from cyprus to the iberian peninsula before disintegrating into oblivion in one of his speeches sadguru jaggi vasudev said in the past we were divided into at least different states we had political entities yet we were recognised as one nation we eat differently we dress differently we speak different languages yet we remain one what holds us as one nation is the spiritual thread well truer words could not have been said clearly it was the spiritual strength that kept india intact as a nation and hindus as a living civilisation the ancient greek roman and egyptian civilisations are long dead you find them on the pages of history books not so with the indian the hindu civilisation which has not only survived but is thriving what can the hindu civilisation contribute to the world we are living in and more importantly to the world thought sadhguru explained non imposition of any belief system and to encourage seeking it does not matter what the scriptures say it does not matter what the leaders say each person every individual must seek yes hindu thought hindu mind hindu philosophy does not depend upon any dogma or doctrine religious rituals are acknowledged and appreciated but the hindu mind also recognises that spirituality is not built upon the platform of such rituals there is not a single ritual that is enforced upon all hindus none there is no uniformity this freedom of thought freedom to express one s thoughts and beliefs and to act according to one s belief is the survival secret of the hindu civilisation as also its contribution to the world according to noted spiritual activist anand krishna the significance of the ramayan and shri ram in sustaining and strengthening the hindu faith in the face of innumerable onslaughts is therefore something that can never be undermined as it is the binding glue that has shrugged off every form of religious expansionism by supposedly liberal western forces the spiritual fervour with which hindus worship shri ram and imbibe his ethos is evident in many respects especially so with regard to prabhu ram is adherence to dharma said the renowned kidambi narayanan in a discourse lord ram the prince who later became the king of ayodhya after a year long exile in the dandaka forest promised his father dasarath that he would go to the forest and not stake his claim to the throne despite his sibling bharat is insistence shri ram explained to bharat that the dharma sastras said that only a father had the right to decide what to do with his property that being the case how could ram interfere in dasarath is right to decide who should be the next king of ayodhya moreover dasarath was the king and how could a king is order be disobeyed dasarath had also instructed and taught his children and in this sense he had been an acharya to them and one could not disobey one is acharya the reason for dasarath is decisions may have been motivated by his wife kaikeyi but ram would still do as instructed by his king and his father said shri ram to bharat'"
      ]
     },
     "execution_count": 18,
     "metadata": {},
     "output_type": "execute_result"
    }
   ],
   "source": [
    "cleaned_text2 = cleaner(lower_case2)\n",
    "cleaned_text2"
   ]
  },
  {
   "cell_type": "code",
   "execution_count": 19,
   "metadata": {
    "colab": {},
    "colab_type": "code",
    "id": "1n9l4GrQGXKF"
   },
   "outputs": [],
   "source": [
    "tokenized_text =nltk.word_tokenize(cleaned_text)\n",
    "tokenized_text2 =nltk.word_tokenize(cleaned_text2)"
   ]
  },
  {
   "cell_type": "code",
   "execution_count": 20,
   "metadata": {
    "colab": {},
    "colab_type": "code",
    "id": "Qg7pKmJeF446"
   },
   "outputs": [],
   "source": [
    "stop_words = [\"i\", \"me\", \"my\", \"myself\", \"we\", \"our\", \"ours\", \"ourselves\", \"you\", \"your\", \"yours\", \"yourself\",\n",
    "              \"yourselves\", \"he\", \"him\", \"his\", \"himself\", \"she\", \"her\", \"hers\", \"herself\", \"it\", \"its\", \"itself\",\n",
    "              \"they\", \"them\", \"their\", \"theirs\", \"themselves\", \"what\", \"which\", \"who\", \"whom\", \"this\", \"that\", \"these\",\n",
    "              \"those\", \"am\", \"is\", \"are\", \"was\", \"were\", \"be\", \"been\", \"being\", \"have\", \"has\", \"had\", \"having\", \"do\",\n",
    "              \"does\", \"did\", \"doing\", \"a\", \"an\", \"the\", \"and\", \"but\", \"if\", \"or\", \"because\", \"as\", \"until\", \"while\",\n",
    "              \"of\", \"at\", \"by\", \"for\", \"with\", \"about\", \"against\", \"between\", \"into\", \"through\", \"during\", \"before\",\n",
    "              \"after\", \"above\", \"below\", \"to\", \"from\", \"up\", \"down\", \"in\", \"out\", \"on\", \"off\", \"over\", \"under\", \"again\",\n",
    "              \"further\", \"then\", \"once\", \"here\", \"there\", \"when\", \"where\", \"why\", \"how\", \"all\", \"any\", \"both\", \"each\",\n",
    "              \"few\", \"more\", \"most\", \"other\", \"some\", \"such\", \"no\", \"nor\", \"not\", \"only\", \"own\", \"same\", \"so\", \"than\",\n",
    "              \"too\", \"very\", \"s\", \"t\", \"can\", \"will\", \"just\", \"don\", \"should\", \"now\",\"new\",\"nep\",\"rs\",\"shall\"]\n",
    "\n",
    "# Removing stop words from the tokenized words list\n",
    "final_words = [word for word in tokenized_text if word not in stop_words]\n",
    "final_words2 = [word for word in tokenized_text2 if word not in stop_words]"
   ]
  },
  {
   "cell_type": "code",
   "execution_count": 21,
   "metadata": {
    "colab": {
     "base_uri": "https://localhost:8080/",
     "height": 51
    },
    "colab_type": "code",
    "id": "U2mNkmOQG2B-",
    "outputId": "81b5f74e-92b1-4278-a8d2-8aafdb870aa9"
   },
   "outputs": [
    {
     "name": "stdout",
     "output_type": "stream",
     "text": [
      "406\n",
      "358\n"
     ]
    }
   ],
   "source": [
    "print(len(final_words))\n",
    "print(len(final_words2))"
   ]
  },
  {
   "cell_type": "markdown",
   "metadata": {
    "colab_type": "text",
    "id": "AlcUrXqhgTzS"
   },
   "source": [
    "**Stemming**"
   ]
  },
  {
   "cell_type": "code",
   "execution_count": 22,
   "metadata": {
    "colab": {
     "base_uri": "https://localhost:8080/",
     "height": 71
    },
    "colab_type": "code",
    "id": "QPRmXXHt1Cpv",
    "outputId": "3a6b5f3e-a742-4e71-edee-892a1895572b"
   },
   "outputs": [
    {
     "name": "stdout",
     "output_type": "stream",
     "text": [
      "406\n",
      "['alway', 'profound', 'ambigu', 'defin', 'mughal', 'shrine', 'exist', 'ayodhya', 'afternoon', 'decemb', 'outwardli', 'appear', 'mosqu', 'built', 'earli', 'th', 'centuri', 'howev', 'insid', 'ram', 'templ', 'function', 'sinc', 'ram', 'lalla', 'idol', 'place', 'interestingli', 'ambigu', 'entir', 'post', 'independ', 'phenomenon', 'local', 'belief', 'babur', 'gener', 'mir', 'baqi', 'built', 'babri', 'masjid', 'site', 'shrine', 'vener', 'ram', 'janmasthan', 'birthplac', 'reson', 'avadh', 'least', 'howev', 'loss', 'janmasthan', 'didn', 'impli', 'hindu', 'wipe', 'signific', 'collect', 'memori', 'perimet', 'mosqu', 'creat', 'ram', 'chabutra', 'offer', 'puja', 'lord', 'ram', 'way', 'akin', 'jew', 'pray', 'outer', 'wall', 'sacr', 'templ', 'mount', 'jerusalem', 'commun', 'lost', 'control', 'demolit', 'babri', 'shrine', 'admittedli', 'violat', 'assur', 'given', 'suprem', 'court', 'howev', 'remov', 'disput', 'structur', 'resumpt', 'puja', 'hastili', 'construct', 'makeshift', 'templ', 'remov', 'trace', 'ambigu', 'even', 'broadcast', 'nation', 'night', 'demolit', 'prime', 'minist', 'p', 'v', 'narasimha', 'rao', 'promis', 'rebuild', 'mosqu', 'site', 'assur', 'lack', 'real', 'commit', 'quickli', 'forgotten', 'instead', 'issu', 'centr', 'construct', 'grand', 'templ', 'site', 'janmasthan', 'oppos', 'templ', 'prefer', 'makeshift', 'templ', 'surround', 'barricad', 'restrict', 'entri', 'devote', 'persist', 'indefinit', 'wherea', 'ram', 'bhakt', 'want', 'end', 'judici', 'prevar', 'categor', 'judici', 'order', 'bhoomi', 'pujan', 'august', 'perform', 'prime', 'minist', 'narendra', 'modi', 'long', 'disput', 'approach', 'closur', 'factor', 'contribut', 'local', 'disput', 'assum', 'nation', 'charact', 'reshap', 'polit', 'quit', 'markedli', 'natur', 'preoccupi', 'futur', 'historian', 'differ', 'reaction', 'demolit', 'last', 'wednesday', 'bhoomipuja', 'would', 'indic', 'india', 'chang', 'significantli', 'former', 'mark', 'cocktail', 'boister', 'celebr', 'anger', 'violent', 'protest', 'recal', 'mumbai', 'riot', 'serial', 'bomb', 'blast', 'earli', 'latter', 'greet', 'dignifi', 'observ', 'anticip', 'nation', 'reawaken', 'ram', 'templ', 'enter', 'realm', 'common', 'sens', 'among', 'hindu', 'least', 'speech', 'ayodhya', 'modi', 'describ', 'ram', 'templ', 'movement', 'manifest', 'nationalist', 'impuls', 'drove', 'freedom', 'movement', 'addit', 'characteris', 'propos', 'templ', 'modern', 'represent', 'cultur', 'sceptic', 'outrag', 'express', 'fear', 'remov', 'ambigu', 'ayodhya', 'metaphor', 'hindu', 'state', 'culmin', 'freedom', 'struggl', 'led', 'establish', 'polit', 'order', 'laid', 'constitut', 'constitut', 'among', 'thing', 'defin', 'paramet', 'public', 'life', 'loos', 'identifi', 'valu', 'would', 'defin', 'republ', 'yet', 'constitut', 'spelt', 'rule', 'law', 'establish', 'equal', 'citizenship', 'special', 'privileg', 'commun', 'suffer', 'histor', 'disadvantag', 'natur', 'steer', 'clear', 'larger', 'issu', 'nationhood', 'understand', 'silenc', 'partli', 'fill', 'initi', 'adher', 'loos', 'call', 'nehruvian', 'consensu', 'mark', 'three', 'pillar', 'secular', 'social', 'non', 'align', 'howev', 'mani', 'earlier', 'shibboleth', 'discard', 'old', 'establish', 'gradual', 'edg', 'power', 'structur', 'tendenc', 'equat', 'nationhood', 'constitut', 'version', 'constitut', 'patriot', 'proceed', 'belief', 'start', 'point', 'indian', 'exist', 'republ', 'day', 'proverbi', 'year', 'zero', 'india', 'inherit', 'sought', 'cover', 'haze', 'ram', 'templ', 'symbol', 'modern', 'india', 'negat', 'constitut', 'construct', 'sanction', 'rule', 'law', 'howev', 'establish', 'link', 'india', 'exist', 'antiqu', 'present', 'proffer', 'belief', 'india', 'continuum', 'seek', 'establish', 'indispens', 'connect', 'edmund', 'burk', 'put', 'live', 'dead', 'unborn', 'modern', 'ram', 'templ', 'establish', 'altern', 'view', 'civilis', 'nationhood', 'facet', 'even', 'jawaharl', 'nehru', 'acknowledg', 'didn', 'inject', 'scheme', 'modern', 'ram', 'templ', 'potenti', 'enlarg', 'indian', 'imagin', 'beyond', 'transient', 'modern']\n"
     ]
    }
   ],
   "source": [
    "from nltk.stem.porter import PorterStemmer\n",
    "stemmer = PorterStemmer()\n",
    "#stem_text = ' '.join([stemmer.stem(w) for w in final_words])\n",
    "stem_text =[stemmer.stem(w) for w in final_words]\n",
    "print(len(stem_text))  \n",
    "print(stem_text) "
   ]
  },
  {
   "cell_type": "code",
   "execution_count": 32,
   "metadata": {
    "colab": {
     "base_uri": "https://localhost:8080/",
     "height": 88
    },
    "colab_type": "code",
    "id": "dvlYXAvXgapZ",
    "outputId": "f9c15e1b-6ca3-4790-d21f-680c6b4d978f"
   },
   "outputs": [
    {
     "name": "stdout",
     "output_type": "stream",
     "text": [
      "2392\n",
      "societ collaps also known civiliz collaps fall complex human societi possibl caus societ collaps includ natur catastroph war pestil depopul collaps societi may revert primit state absorb stronger societi complet disappear disintegr may rel abrupt like maya civil gradual case fall western roman empir exampl societ collaps anatolian hittit empir mycenaean civil manchu manchuria mesoamerican maya angkor cambodia han tang dynasti china mughal empir infam call gunpowd empir mali empir cours phoenician empir centuri back rule mediterranean cypru iberian peninsula disintegr oblivion one speech sadguru jaggi vasudev said past divid least differ state polit entiti yet recognis one nation eat differ dress differ speak differ languag yet remain one hold us one nation spiritu thread well truer word could said clearli spiritu strength kept india intact nation hindu live civilis ancient greek roman egyptian civilis long dead find page histori book indian hindu civilis surviv thrive hindu civilis contribut world live importantli world thought sadhguru explain non imposit belief system encourag seek matter scriptur say matter leader say person everi individu must seek ye hindu thought hindu mind hindu philosophi depend upon dogma doctrin religi ritual acknowledg appreci hindu mind also recognis spiritu built upon platform ritual singl ritual enforc upon hindu none uniform freedom thought freedom express one thought belief act accord one belief surviv secret hindu civilis also contribut world accord note spiritu activist anand krishna signific ramayan shri ram sustain strengthen hindu faith face innumer onslaught therefor someth never undermin bind glue shrug everi form religi expansion supposedli liber western forc spiritu fervour hindu worship shri ram imbib etho evid mani respect especi regard prabhu ram adher dharma said renown kidambi narayanan discours lord ram princ later becam king ayodhya year long exil dandaka forest promis father dasarath would go forest stake claim throne despit sibl bharat insist shri ram explain bharat dharma sastra said father right decid properti case could ram interfer dasarath right decid next king ayodhya moreov dasarath king could king order disobey dasarath also instruct taught children sens acharya one could disobey one acharya reason dasarath decis may motiv wife kaikeyi ram would still instruct king father said shri ram bharat\n",
      "<class 'str'>\n"
     ]
    }
   ],
   "source": [
    "from nltk.stem.porter import PorterStemmer\n",
    "stemmer = PorterStemmer()\n",
    "stem_text2 =' '.join([stemmer.stem(w) for w in final_words2])\n",
    "#stem_text2 =[stemmer.stem(w) for w in final_words2]\n",
    "print(len(stem_text2))  \n",
    "print(stem_text2)\n",
    "print(type(stem_text2))"
   ]
  },
  {
   "cell_type": "markdown",
   "metadata": {
    "colab_type": "text",
    "id": "-iz2p_WvfEvK"
   },
   "source": [
    "**Fit the model**"
   ]
  },
  {
   "cell_type": "code",
   "execution_count": 33,
   "metadata": {
    "colab": {
     "base_uri": "https://localhost:8080/",
     "height": 120
    },
    "colab_type": "code",
    "id": "rFm_poGuMG0d",
    "outputId": "1d5b52f2-079c-4bd6-c946-c22c06c5005b"
   },
   "outputs": [
    {
     "data": {
      "text/plain": [
       "CountVectorizer(analyzer='word', binary=False, decode_error='strict',\n",
       "                dtype=<class 'numpy.int64'>, encoding='utf-8', input='content',\n",
       "                lowercase=True, max_df=1.0, max_features=None, min_df=1,\n",
       "                ngram_range=(1, 1), preprocessor=None, stop_words=None,\n",
       "                strip_accents=None, token_pattern='(?u)\\\\b\\\\w\\\\w+\\\\b',\n",
       "                tokenizer=None, vocabulary=None)"
      ]
     },
     "execution_count": 33,
     "metadata": {},
     "output_type": "execute_result"
    }
   ],
   "source": [
    "from sklearn.feature_extraction.text import CountVectorizer \n",
    "c_vect = CountVectorizer()\n",
    "c_vect.fit(stem_text)"
   ]
  },
  {
   "cell_type": "code",
   "execution_count": 34,
   "metadata": {
    "colab": {
     "base_uri": "https://localhost:8080/",
     "height": 88
    },
    "colab_type": "code",
    "id": "CTOHt7iKuUpp",
    "outputId": "2bcc347f-747c-40b4-a9d6-078292b7b464"
   },
   "outputs": [
    {
     "name": "stdout",
     "output_type": "stream",
     "text": [
      "bag of words : ['acknowledg', 'addit', 'adher', 'admittedli', 'afternoon', 'akin', 'align', 'altern', 'alway', 'ambigu', 'among', 'anger', 'anticip', 'antiqu', 'appear', 'approach', 'assum', 'assur', 'august', 'avadh', 'ayodhya', 'babri', 'babur', 'baqi', 'barricad', 'belief', 'beyond', 'bhakt', 'bhoomi', 'bhoomipuja', 'birthplac', 'blast', 'boister', 'bomb', 'broadcast', 'built', 'burk', 'call', 'categor', 'celebr', 'centr', 'centuri', 'chabutra', 'chang', 'charact', 'characteris', 'citizenship', 'civilis', 'clear', 'closur', 'cocktail', 'collect', 'commit', 'common', 'commun', 'connect', 'consensu', 'constitut', 'construct', 'continuum', 'contribut', 'control', 'court', 'cover', 'creat', 'culmin', 'cultur', 'day', 'dead', 'decemb', 'defin', 'demolit', 'describ', 'devote', 'didn', 'differ', 'dignifi', 'disadvantag', 'discard', 'disput', 'drove', 'earli', 'earlier', 'edg', 'edmund', 'end', 'enlarg', 'enter', 'entir', 'entri', 'equal', 'equat', 'establish', 'even', 'exist', 'express', 'facet', 'factor', 'fear', 'fill', 'forgotten', 'former', 'freedom', 'function', 'futur', 'gener', 'given', 'gradual', 'grand', 'greet', 'hastili', 'haze', 'hindu', 'histor', 'historian', 'howev', 'identifi', 'idol', 'imagin', 'impli', 'impuls', 'indefinit', 'independ', 'india', 'indian', 'indic', 'indispens', 'inherit', 'initi', 'inject', 'insid', 'instead', 'interestingli', 'issu', 'janmasthan', 'jawaharl', 'jerusalem', 'jew', 'judici', 'lack', 'laid', 'lalla', 'larger', 'last', 'latter', 'law', 'least', 'led', 'life', 'link', 'live', 'local', 'long', 'loos', 'lord', 'loss', 'lost', 'makeshift', 'mani', 'manifest', 'mark', 'markedli', 'masjid', 'memori', 'metaphor', 'minist', 'mir', 'modern', 'modi', 'mosqu', 'mount', 'movement', 'mughal', 'mumbai', 'narasimha', 'narendra', 'nation', 'nationalist', 'nationhood', 'natur', 'negat', 'nehru', 'nehruvian', 'night', 'non', 'observ', 'offer', 'old', 'oppos', 'order', 'outer', 'outrag', 'outwardli', 'paramet', 'partli', 'patriot', 'perform', 'perimet', 'persist', 'phenomenon', 'pillar', 'place', 'point', 'polit', 'post', 'potenti', 'power', 'pray', 'prefer', 'preoccupi', 'present', 'prevar', 'prime', 'privileg', 'proceed', 'proffer', 'profound', 'promis', 'propos', 'protest', 'proverbi', 'public', 'puja', 'pujan', 'put', 'quickli', 'quit', 'ram', 'rao', 'reaction', 'real', 'realm', 'reawaken', 'rebuild', 'recal', 'remov', 'represent', 'republ', 'reshap', 'reson', 'restrict', 'resumpt', 'riot', 'rule', 'sacr', 'sanction', 'sceptic', 'scheme', 'secular', 'seek', 'sens', 'serial', 'shibboleth', 'shrine', 'signific', 'significantli', 'silenc', 'sinc', 'site', 'social', 'sought', 'special', 'speech', 'spelt', 'start', 'state', 'steer', 'structur', 'struggl', 'suffer', 'suprem', 'surround', 'symbol', 'templ', 'tendenc', 'th', 'thing', 'three', 'trace', 'transient', 'unborn', 'understand', 'valu', 'vener', 'version', 'view', 'violat', 'violent', 'wall', 'want', 'way', 'wednesday', 'wherea', 'wipe', 'would', 'year', 'yet', 'zero']\n",
      "vocab        : {'alway': 8, 'profound': 216, 'ambigu': 9, 'defin': 70, 'mughal': 172, 'shrine': 253, 'exist': 94, 'ayodhya': 20, 'afternoon': 4, 'decemb': 69, 'outwardli': 192, 'appear': 14, 'mosqu': 169, 'built': 35, 'earli': 81, 'th': 275, 'centuri': 41, 'howev': 115, 'insid': 130, 'ram': 227, 'templ': 273, 'function': 103, 'sinc': 257, 'lalla': 141, 'idol': 117, 'place': 201, 'interestingli': 132, 'entir': 88, 'post': 204, 'independ': 122, 'phenomenon': 199, 'local': 151, 'belief': 25, 'babur': 22, 'gener': 105, 'mir': 166, 'baqi': 23, 'babri': 21, 'masjid': 162, 'site': 258, 'vener': 283, 'janmasthan': 134, 'birthplac': 30, 'reson': 239, 'avadh': 19, 'least': 146, 'loss': 155, 'didn': 74, 'impli': 119, 'hindu': 112, 'wipe': 293, 'signific': 254, 'collect': 51, 'memori': 163, 'perimet': 197, 'creat': 64, 'chabutra': 42, 'offer': 186, 'puja': 222, 'lord': 154, 'way': 290, 'akin': 5, 'jew': 137, 'pray': 207, 'outer': 190, 'wall': 288, 'sacr': 244, 'mount': 170, 'jerusalem': 136, 'commun': 54, 'lost': 156, 'control': 61, 'demolit': 71, 'admittedli': 3, 'violat': 286, 'assur': 17, 'given': 106, 'suprem': 270, 'court': 62, 'remov': 235, 'disput': 79, 'structur': 267, 'resumpt': 241, 'hastili': 110, 'construct': 58, 'makeshift': 157, 'trace': 278, 'even': 93, 'broadcast': 34, 'nation': 176, 'night': 183, 'prime': 212, 'minist': 165, 'narasimha': 174, 'rao': 228, 'promis': 217, 'rebuild': 233, 'lack': 139, 'real': 230, 'commit': 52, 'quickli': 225, 'forgotten': 100, 'instead': 131, 'issu': 133, 'centr': 40, 'grand': 108, 'oppos': 188, 'prefer': 208, 'surround': 271, 'barricad': 24, 'restrict': 240, 'entri': 89, 'devote': 73, 'persist': 198, 'indefinit': 121, 'wherea': 292, 'bhakt': 27, 'want': 289, 'end': 85, 'judici': 138, 'prevar': 211, 'categor': 38, 'order': 189, 'bhoomi': 28, 'pujan': 223, 'august': 18, 'perform': 196, 'narendra': 175, 'modi': 168, 'long': 152, 'approach': 15, 'closur': 49, 'factor': 97, 'contribut': 60, 'assum': 16, 'charact': 44, 'reshap': 238, 'polit': 203, 'quit': 226, 'markedli': 161, 'natur': 179, 'preoccupi': 209, 'futur': 104, 'historian': 114, 'differ': 75, 'reaction': 229, 'last': 143, 'wednesday': 291, 'bhoomipuja': 29, 'would': 294, 'indic': 125, 'india': 123, 'chang': 43, 'significantli': 255, 'former': 101, 'mark': 160, 'cocktail': 50, 'boister': 32, 'celebr': 39, 'anger': 11, 'violent': 287, 'protest': 219, 'recal': 234, 'mumbai': 173, 'riot': 242, 'serial': 251, 'bomb': 33, 'blast': 31, 'latter': 144, 'greet': 109, 'dignifi': 76, 'observ': 185, 'anticip': 12, 'reawaken': 232, 'enter': 87, 'realm': 231, 'common': 53, 'sens': 250, 'among': 10, 'speech': 262, 'describ': 72, 'movement': 171, 'manifest': 159, 'nationalist': 177, 'impuls': 120, 'drove': 80, 'freedom': 102, 'addit': 1, 'characteris': 45, 'propos': 218, 'modern': 167, 'represent': 236, 'cultur': 66, 'sceptic': 246, 'outrag': 191, 'express': 95, 'fear': 98, 'metaphor': 164, 'state': 265, 'culmin': 65, 'struggl': 268, 'led': 147, 'establish': 92, 'laid': 140, 'constitut': 57, 'thing': 276, 'paramet': 193, 'public': 221, 'life': 148, 'loos': 153, 'identifi': 116, 'valu': 282, 'republ': 237, 'yet': 296, 'spelt': 263, 'rule': 243, 'law': 145, 'equal': 90, 'citizenship': 46, 'special': 261, 'privileg': 213, 'suffer': 269, 'histor': 113, 'disadvantag': 77, 'steer': 266, 'clear': 48, 'larger': 142, 'nationhood': 178, 'understand': 281, 'silenc': 256, 'partli': 194, 'fill': 99, 'initi': 128, 'adher': 2, 'call': 37, 'nehruvian': 182, 'consensu': 56, 'three': 277, 'pillar': 200, 'secular': 248, 'social': 259, 'non': 184, 'align': 6, 'mani': 158, 'earlier': 82, 'shibboleth': 252, 'discard': 78, 'old': 187, 'gradual': 107, 'edg': 83, 'power': 206, 'tendenc': 274, 'equat': 91, 'version': 284, 'patriot': 195, 'proceed': 214, 'start': 264, 'point': 202, 'indian': 124, 'day': 67, 'proverbi': 220, 'year': 295, 'zero': 297, 'inherit': 127, 'sought': 260, 'cover': 63, 'haze': 111, 'symbol': 272, 'negat': 180, 'sanction': 245, 'link': 149, 'antiqu': 13, 'present': 210, 'proffer': 215, 'continuum': 59, 'seek': 249, 'indispens': 126, 'connect': 55, 'edmund': 84, 'burk': 36, 'put': 224, 'live': 150, 'dead': 68, 'unborn': 280, 'altern': 7, 'view': 285, 'civilis': 47, 'facet': 96, 'jawaharl': 135, 'nehru': 181, 'acknowledg': 0, 'inject': 129, 'scheme': 247, 'potenti': 205, 'enlarg': 86, 'imagin': 118, 'beyond': 26, 'transient': 279}\n",
      "vocab length        : 298\n"
     ]
    }
   ],
   "source": [
    "#vect1.fit_transform(string)\n",
    "print(\"bag of words :\",c_vect.get_feature_names())\n",
    "print(\"vocab        :\",c_vect.vocabulary_)\n",
    "print(\"vocab length        :\",len(c_vect.vocabulary_))"
   ]
  },
  {
   "cell_type": "markdown",
   "metadata": {
    "colab_type": "text",
    "id": "6bMhDHNQ_tx1"
   },
   "source": [
    "**Compare**"
   ]
  },
  {
   "cell_type": "code",
   "execution_count": 35,
   "metadata": {
    "colab": {
     "base_uri": "https://localhost:8080/",
     "height": 51
    },
    "colab_type": "code",
    "id": "s7MkZmC9-M4a",
    "outputId": "c2c5f548-29eb-4a79-ad64-8fddab9a7674"
   },
   "outputs": [
    {
     "data": {
      "text/plain": [
       "<1x298 sparse matrix of type '<class 'numpy.int64'>'\n",
       "\twith 39 stored elements in Compressed Sparse Row format>"
      ]
     },
     "execution_count": 35,
     "metadata": {},
     "output_type": "execute_result"
    }
   ],
   "source": [
    "stem_text2_list=[stem_text2]\n",
    "c_new_vect = c_vect.transform(stem_text2_list)\n",
    "c_new_vect"
   ]
  },
  {
   "cell_type": "code",
   "execution_count": 108,
   "metadata": {
    "colab": {},
    "colab_type": "code",
    "id": "7LKC_L09-e9g"
   },
   "outputs": [],
   "source": [
    "#c_new_vect.toarray()"
   ]
  },
  {
   "cell_type": "code",
   "execution_count": 37,
   "metadata": {
    "colab": {},
    "colab_type": "code",
    "id": "7oM-VKoR-e6q"
   },
   "outputs": [],
   "source": [
    "import pandas as pd \n",
    "df = pd.DataFrame(c_new_vect.toarray(), columns=c_vect.get_feature_names())"
   ]
  },
  {
   "cell_type": "code",
   "execution_count": 38,
   "metadata": {
    "colab": {
     "base_uri": "https://localhost:8080/",
     "height": 128
    },
    "colab_type": "code",
    "id": "VvDKrhTRCgap",
    "outputId": "fa444339-be01-4477-dc64-d17e5ff4bf81"
   },
   "outputs": [
    {
     "data": {
      "text/html": [
       "<div>\n",
       "<style scoped>\n",
       "    .dataframe tbody tr th:only-of-type {\n",
       "        vertical-align: middle;\n",
       "    }\n",
       "\n",
       "    .dataframe tbody tr th {\n",
       "        vertical-align: top;\n",
       "    }\n",
       "\n",
       "    .dataframe thead th {\n",
       "        text-align: right;\n",
       "    }\n",
       "</style>\n",
       "<table border=\"1\" class=\"dataframe\">\n",
       "  <thead>\n",
       "    <tr style=\"text-align: right;\">\n",
       "      <th></th>\n",
       "      <th>acknowledg</th>\n",
       "      <th>addit</th>\n",
       "      <th>adher</th>\n",
       "      <th>admittedli</th>\n",
       "      <th>afternoon</th>\n",
       "      <th>akin</th>\n",
       "      <th>align</th>\n",
       "      <th>altern</th>\n",
       "      <th>alway</th>\n",
       "      <th>ambigu</th>\n",
       "      <th>...</th>\n",
       "      <th>wall</th>\n",
       "      <th>want</th>\n",
       "      <th>way</th>\n",
       "      <th>wednesday</th>\n",
       "      <th>wherea</th>\n",
       "      <th>wipe</th>\n",
       "      <th>would</th>\n",
       "      <th>year</th>\n",
       "      <th>yet</th>\n",
       "      <th>zero</th>\n",
       "    </tr>\n",
       "  </thead>\n",
       "  <tbody>\n",
       "    <tr>\n",
       "      <th>0</th>\n",
       "      <td>1</td>\n",
       "      <td>NaN</td>\n",
       "      <td>1</td>\n",
       "      <td>NaN</td>\n",
       "      <td>NaN</td>\n",
       "      <td>NaN</td>\n",
       "      <td>NaN</td>\n",
       "      <td>NaN</td>\n",
       "      <td>NaN</td>\n",
       "      <td>NaN</td>\n",
       "      <td>...</td>\n",
       "      <td>NaN</td>\n",
       "      <td>NaN</td>\n",
       "      <td>NaN</td>\n",
       "      <td>NaN</td>\n",
       "      <td>NaN</td>\n",
       "      <td>NaN</td>\n",
       "      <td>2</td>\n",
       "      <td>1</td>\n",
       "      <td>2</td>\n",
       "      <td>NaN</td>\n",
       "    </tr>\n",
       "  </tbody>\n",
       "</table>\n",
       "<p>1 rows × 298 columns</p>\n",
       "</div>"
      ],
      "text/plain": [
       "   acknowledg  addit  adher  admittedli  afternoon  akin  align  altern  \\\n",
       "0           1    NaN      1         NaN        NaN   NaN    NaN     NaN   \n",
       "\n",
       "   alway  ambigu  ...  wall  want  way  wednesday  wherea  wipe  would  year  \\\n",
       "0    NaN     NaN  ...   NaN   NaN  NaN        NaN     NaN   NaN      2     1   \n",
       "\n",
       "   yet  zero  \n",
       "0    2   NaN  \n",
       "\n",
       "[1 rows x 298 columns]"
      ]
     },
     "execution_count": 38,
     "metadata": {},
     "output_type": "execute_result"
    }
   ],
   "source": [
    "df_1 = df[df > 0] \n",
    "df_1"
   ]
  },
  {
   "cell_type": "code",
   "execution_count": 39,
   "metadata": {
    "colab": {
     "base_uri": "https://localhost:8080/",
     "height": 128
    },
    "colab_type": "code",
    "id": "H1CWGDNjEBvm",
    "outputId": "240e0c09-6b9c-4816-91e3-e151f4a15208"
   },
   "outputs": [
    {
     "data": {
      "text/html": [
       "<div>\n",
       "<style scoped>\n",
       "    .dataframe tbody tr th:only-of-type {\n",
       "        vertical-align: middle;\n",
       "    }\n",
       "\n",
       "    .dataframe tbody tr th {\n",
       "        vertical-align: top;\n",
       "    }\n",
       "\n",
       "    .dataframe thead th {\n",
       "        text-align: right;\n",
       "    }\n",
       "</style>\n",
       "<table border=\"1\" class=\"dataframe\">\n",
       "  <thead>\n",
       "    <tr style=\"text-align: right;\">\n",
       "      <th></th>\n",
       "      <th>acknowledg</th>\n",
       "      <th>adher</th>\n",
       "      <th>ayodhya</th>\n",
       "      <th>belief</th>\n",
       "      <th>built</th>\n",
       "      <th>call</th>\n",
       "      <th>centuri</th>\n",
       "      <th>civilis</th>\n",
       "      <th>contribut</th>\n",
       "      <th>dead</th>\n",
       "      <th>...</th>\n",
       "      <th>ram</th>\n",
       "      <th>rule</th>\n",
       "      <th>seek</th>\n",
       "      <th>sens</th>\n",
       "      <th>signific</th>\n",
       "      <th>speech</th>\n",
       "      <th>state</th>\n",
       "      <th>would</th>\n",
       "      <th>year</th>\n",
       "      <th>yet</th>\n",
       "    </tr>\n",
       "  </thead>\n",
       "  <tbody>\n",
       "    <tr>\n",
       "      <th>0</th>\n",
       "      <td>1</td>\n",
       "      <td>1</td>\n",
       "      <td>2</td>\n",
       "      <td>3</td>\n",
       "      <td>1</td>\n",
       "      <td>1</td>\n",
       "      <td>1</td>\n",
       "      <td>5</td>\n",
       "      <td>2</td>\n",
       "      <td>1</td>\n",
       "      <td>...</td>\n",
       "      <td>8</td>\n",
       "      <td>1</td>\n",
       "      <td>2</td>\n",
       "      <td>1</td>\n",
       "      <td>1</td>\n",
       "      <td>1</td>\n",
       "      <td>2</td>\n",
       "      <td>2</td>\n",
       "      <td>1</td>\n",
       "      <td>2</td>\n",
       "    </tr>\n",
       "  </tbody>\n",
       "</table>\n",
       "<p>1 rows × 39 columns</p>\n",
       "</div>"
      ],
      "text/plain": [
       "   acknowledg  adher  ayodhya  belief  built  call  centuri  civilis  \\\n",
       "0           1      1        2       3      1     1        1        5   \n",
       "\n",
       "   contribut  dead  ...  ram  rule  seek  sens  signific  speech  state  \\\n",
       "0          2     1  ...    8     1     2     1         1       1      2   \n",
       "\n",
       "   would  year  yet  \n",
       "0      2     1    2  \n",
       "\n",
       "[1 rows x 39 columns]"
      ]
     },
     "execution_count": 39,
     "metadata": {},
     "output_type": "execute_result"
    }
   ],
   "source": [
    "df_1.dropna(axis=1)"
   ]
  },
  {
   "cell_type": "code",
   "execution_count": null,
   "metadata": {},
   "outputs": [],
   "source": []
  }
 ],
 "metadata": {
  "colab": {
   "collapsed_sections": [],
   "name": "NLP_Assign_6_Compare_Docs_Matrix.ipynb",
   "provenance": []
  },
  "kernelspec": {
   "display_name": "Python 3",
   "language": "python",
   "name": "python3"
  },
  "language_info": {
   "codemirror_mode": {
    "name": "ipython",
    "version": 3
   },
   "file_extension": ".py",
   "mimetype": "text/x-python",
   "name": "python",
   "nbconvert_exporter": "python",
   "pygments_lexer": "ipython3",
   "version": "3.7.6"
  }
 },
 "nbformat": 4,
 "nbformat_minor": 1
}
