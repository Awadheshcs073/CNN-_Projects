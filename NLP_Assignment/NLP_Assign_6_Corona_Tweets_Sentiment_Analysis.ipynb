{
 "cells": [
  {
   "cell_type": "code",
   "execution_count": null,
   "metadata": {
    "colab": {},
    "colab_type": "code",
    "id": "YoMaFhpg1cYx"
   },
   "outputs": [],
   "source": []
  },
  {
   "cell_type": "code",
   "execution_count": 54,
   "metadata": {
    "colab": {
     "base_uri": "https://localhost:8080/",
     "height": 154
    },
    "colab_type": "code",
    "id": "H9SaFXkmlTMo",
    "outputId": "cd1dbd5b-b7f7-416e-a2c4-02a0302480a5"
   },
   "outputs": [
    {
     "name": "stderr",
     "output_type": "stream",
     "text": [
      "[nltk_data] Downloading package punkt to\n",
      "[nltk_data]     C:\\Users\\awadh\\AppData\\Roaming\\nltk_data...\n",
      "[nltk_data]   Package punkt is already up-to-date!\n",
      "[nltk_data] Downloading package stopwords to\n",
      "[nltk_data]     C:\\Users\\awadh\\AppData\\Roaming\\nltk_data...\n",
      "[nltk_data]   Package stopwords is already up-to-date!\n",
      "[nltk_data] Downloading package wordnet to\n",
      "[nltk_data]     C:\\Users\\awadh\\AppData\\Roaming\\nltk_data...\n",
      "[nltk_data]   Package wordnet is already up-to-date!\n",
      "[nltk_data] Downloading package vader_lexicon to\n",
      "[nltk_data]     C:\\Users\\awadh\\AppData\\Roaming\\nltk_data...\n",
      "[nltk_data]   Package vader_lexicon is already up-to-date!\n"
     ]
    },
    {
     "data": {
      "text/plain": [
       "True"
      ]
     },
     "execution_count": 54,
     "metadata": {},
     "output_type": "execute_result"
    }
   ],
   "source": [
    "import nltk\n",
    "nltk.download('punkt')\n",
    "nltk.download('stopwords')\n",
    "nltk.download('wordnet')\n",
    "nltk.download('vader_lexicon')"
   ]
  },
  {
   "cell_type": "code",
   "execution_count": 55,
   "metadata": {
    "colab": {},
    "colab_type": "code",
    "id": "34Ex58T913zl"
   },
   "outputs": [],
   "source": [
    "import string\n",
    "import re\n",
    "from collections import Counter\n",
    "import matplotlib.pyplot as plt"
   ]
  },
  {
   "cell_type": "code",
   "execution_count": 56,
   "metadata": {
    "colab": {
     "base_uri": "https://localhost:8080/",
     "height": 191
    },
    "colab_type": "code",
    "id": "YHqpAUcn14rH",
    "outputId": "addc124b-a5fa-408b-e68b-0eefc72480dd"
   },
   "outputs": [
    {
     "name": "stdout",
     "output_type": "stream",
     "text": [
      "Requirement already satisfied: GetOldTweets3 in c:\\users\\awadh\\anaconda3\\lib\\site-packages (0.0.11)\n",
      "Requirement already satisfied: pyquery>=1.2.10 in c:\\users\\awadh\\anaconda3\\lib\\site-packages (from GetOldTweets3) (1.4.1)\n",
      "Requirement already satisfied: lxml>=3.5.0 in c:\\users\\awadh\\anaconda3\\lib\\site-packages (from GetOldTweets3) (4.5.0)\n",
      "Requirement already satisfied: cssselect>0.7.9 in c:\\users\\awadh\\anaconda3\\lib\\site-packages (from pyquery>=1.2.10->GetOldTweets3) (1.1.0)\n",
      "Note: you may need to restart the kernel to use updated packages.\n"
     ]
    }
   ],
   "source": [
    "pip install GetOldTweets3"
   ]
  },
  {
   "cell_type": "code",
   "execution_count": 57,
   "metadata": {
    "colab": {},
    "colab_type": "code",
    "id": "rzQdVHme5H2_"
   },
   "outputs": [],
   "source": [
    "def get_tweets(start_date,end_date,topic):\n",
    "    import GetOldTweets3 as got   # library used to scrape data from twitter without any other tools\n",
    "    tweetCriteria = got.manager.TweetCriteria().setQuerySearch(topic) \\\n",
    "        .setSince(start_date) \\\n",
    "        .setUntil(end_date) \\\n",
    "        .setMaxTweets(100)\n",
    "    # Creation of list that contains all tweets\n",
    "    tweets = got.manager.TweetManager.getTweets(tweetCriteria)\n",
    "    # Creating list of chosen tweet data\n",
    "    text_tweets = [[tweet.text] for tweet in tweets]\n",
    "    return text_tweets"
   ]
  },
  {
   "cell_type": "code",
   "execution_count": 58,
   "metadata": {
    "colab": {},
    "colab_type": "code",
    "id": "wAHZPWNLD0zY"
   },
   "outputs": [],
   "source": [
    "start_date_befor=\"2020-02-22\"\n",
    "end_date_befor=\"2020-03-23\"\n",
    "topic='#coronavirus'\n",
    "tweets_before  = get_tweets(start_date_befor,end_date_befor,topic)"
   ]
  },
  {
   "cell_type": "code",
   "execution_count": 59,
   "metadata": {
    "colab": {
     "base_uri": "https://localhost:8080/",
     "height": 34
    },
    "colab_type": "code",
    "id": "WoBH9XeGE2mT",
    "outputId": "5165708b-4877-4542-8a0e-3ea50a2eaee7"
   },
   "outputs": [
    {
     "data": {
      "text/plain": [
       "list"
      ]
     },
     "execution_count": 59,
     "metadata": {},
     "output_type": "execute_result"
    }
   ],
   "source": [
    "type(tweets_before)"
   ]
  },
  {
   "cell_type": "code",
   "execution_count": 60,
   "metadata": {
    "colab": {},
    "colab_type": "code",
    "id": "XKerS58yEe3C"
   },
   "outputs": [],
   "source": [
    "start_date_after=\"2020-03-24\"\n",
    "end_date_after=\"2020-04-23\"\n",
    "topic='#coronavirus'\n",
    "tweets_after  = get_tweets(start_date_after,end_date_after,topic)"
   ]
  },
  {
   "cell_type": "code",
   "execution_count": 61,
   "metadata": {
    "colab": {
     "base_uri": "https://localhost:8080/",
     "height": 34
    },
    "colab_type": "code",
    "id": "syjPJ0kBE0j3",
    "outputId": "65872cbc-13c1-4a78-e5ce-32a178ecc4cd"
   },
   "outputs": [
    {
     "data": {
      "text/plain": [
       "['Are you out of work due to #coronavirus? Is your resume ready for when the country opens back up?']"
      ]
     },
     "execution_count": 61,
     "metadata": {},
     "output_type": "execute_result"
    }
   ],
   "source": [
    "tweets_after[2]"
   ]
  },
  {
   "cell_type": "code",
   "execution_count": 62,
   "metadata": {
    "colab": {},
    "colab_type": "code",
    "id": "3YR97Z2qhaul"
   },
   "outputs": [],
   "source": [
    "# make a dictionary of Contractions\n",
    "\n",
    "contraction_mapping={\n",
    "\"ain't\": \"is not\",\n",
    "\"aren't\": \"are not\",\n",
    "\"can't\": \"cannot\",\n",
    "\"can't've\": \"cannot have\",\n",
    "\"'cause\": \"because\",\n",
    "\"could've\": \"could have\",\n",
    "\"couldn't\": \"could not\",\n",
    "\"couldn't've\": \"could not have\",\n",
    "\"didn't\": \"did not\",\n",
    "\"doesn't\": \"does not\",\n",
    "\"don't\": \"do not\",\n",
    "\"hadn't\": \"had not\",\n",
    "\"hadn't've\": \"had not have\",\n",
    "\"hasn't\": \"has not\",\n",
    "\"haven't\": \"have not\",\n",
    "\"he'd\": \"he would\",\n",
    "\"he'd've\": \"he would have\",\n",
    "\"he'll\": \"he will\",\n",
    "\"he'll've\": \"he he will have\",\n",
    "\"he's\": \"he is\",\n",
    "\"how'd\": \"how did\",\n",
    "\"how'd'y\": \"how do you\",\n",
    "\"how'll\": \"how will\",\n",
    "\"how's\": \"how is\",\n",
    "\"I'd\": \"I would\",\n",
    "\"I'd've\": \"I would have\",\n",
    "\"I'll\": \"I will\",\n",
    "\"I'll've\": \"I will have\",\n",
    "\"I'm\": \"I am\",\n",
    "\"I've\": \"I have\",\n",
    "\"i'd\": \"i would\",\n",
    "\"i'd've\": \"i would have\",\n",
    "\"i'll\": \"i will\",\n",
    "\"i'll've\": \"i will have\",\n",
    "\"i'm\": \"i am\",\n",
    "\"i've\": \"i have\",\n",
    "\"isn't\": \"is not\",\n",
    "\"it'd\": \"it would\",\n",
    "\"it'd've\": \"it would have\",\n",
    "\"it'll\": \"it will\",\n",
    "\"it'll've\": \"it will have\",\n",
    "\"it's\": \"it is\",\n",
    "\"let's\": \"let us\",\n",
    "\"ma'am\": \"madam\",\n",
    "\"mayn't\": \"may not\",\n",
    "\"might've\": \"might have\",\n",
    "\"mightn't\": \"might not\",\n",
    "\"mightn't've\": \"might not have\",\n",
    "\"must've\": \"must have\",\n",
    "\"mustn't\": \"must not\",\n",
    "\"mustn't've\": \"must not have\",\n",
    "\"needn't\": \"need not\",\n",
    "\"needn't've\": \"need not have\",\n",
    "\"o'clock\": \"of the clock\",\n",
    "\"oughtn't\": \"ought not\",\n",
    "\"oughtn't've\": \"ought not have\",\n",
    "\"shan't\": \"shall not\",\n",
    "\"sha'n't\": \"shall not\",\n",
    "\"shan't've\": \"shall not have\",\n",
    "\"she'd\": \"she would\",\n",
    "\"she'd've\": \"she would have\",\n",
    "\"she'll\": \"she will\",\n",
    "\"she'll've\": \"she will have\",\n",
    "\"she's\": \"she is\",\n",
    "\"should've\": \"should have\",\n",
    "\"shouldn't\": \"should not\",\n",
    "\"shouldn't've\": \"should not have\",\n",
    "\"so've\": \"so have\",\n",
    "\"so's\": \"so as\",\n",
    "\"that'd\": \"that would\",\n",
    "\"that'd've\": \"that would have\",\n",
    "\"that's\": \"that is\",\n",
    "\"there'd\": \"there would\",\n",
    "\"there'd've\": \"there would have\",\n",
    "\"there's\": \"there is\",\n",
    "\"they'd\": \"they would\",\n",
    "\"they'd've\": \"they would have\",\n",
    "\"they'll\": \"they will\",\n",
    "\"they'll've\": \"they will have\",\n",
    "\"they're\": \"they are\",\n",
    "\"they've\": \"they have\",\n",
    "\"to've\": \"to have\",\n",
    "\"wasn't\": \"was not\",\n",
    "\"we'd\": \"we would\",\n",
    "\"we'd've\": \"we would have\",\n",
    "\"we'll\": \"we will\",\n",
    "\"we'll've\": \"we will have\",\n",
    "\"we're\": \"we are\",\n",
    "\"we've\": \"we have\",\n",
    "\"weren't\": \"were not\",\n",
    "\"what'll\": \"what will\",\n",
    "\"what'll've\": \"what will have\",\n",
    "\"what're\": \"what are\",\n",
    "\"what's\": \"what is\",\n",
    "\"what've\": \"what have\",\n",
    "\"when's\": \"when is\",\n",
    "\"when've\": \"when have\",\n",
    "\"where'd\": \"where did\",\n",
    "\"where's\": \"where is\",\n",
    "\"where've\": \"where have\",\n",
    "\"who'll\": \"who will\",\n",
    "\"who'll've\": \"who will have\",\n",
    "\"who's\": \"who is\",\n",
    "\"who've\": \"who have\",\n",
    "\"why's\": \"why is\",\n",
    "\"why've\": \"why have\",\n",
    "\"will've\": \"will have\",\n",
    "\"won't\": \"will not\",\n",
    "\"won't've\": \"will not have\",\n",
    "\"would've\": \"would have\",\n",
    "\"wouldn't\": \"would not\",\n",
    "\"wouldn't've\": \"would not have\",\n",
    "\"y'all\": \"you all\",\n",
    "\"y'all'd\": \"you all would\",\n",
    "\"y'all'd've\": \"you all would have\",\n",
    "\"y'all're\": \"you all are\",\n",
    "\"y'all've\": \"you all have\",\n",
    "\"you'd\": \"you would\",\n",
    "\"you'd've\": \"you would have\",\n",
    "\"you'll\": \"you will\",\n",
    "\"you'll've\": \"you will have\",\n",
    "\"you're\": \"you are\",\n",
    "\"you've\": \"you have\"\n",
    "}"
   ]
  },
  {
   "cell_type": "code",
   "execution_count": 63,
   "metadata": {
    "colab": {},
    "colab_type": "code",
    "id": "tk-KWu3Ghk3y"
   },
   "outputs": [],
   "source": [
    "## function to pre-process the text\n",
    "def cleaner(text):\n",
    "    newString=re.sub(r\"@[a-zA-Z0-9]+\",\"\",text)           # removing user mentions\n",
    "    newString=re.sub(\"#\",\"\",newString) \n",
    "    newString=' '.join([contraction_mapping[t] if t in contraction_mapping else t for t in newString.split(\" \")])\n",
    "    x=re.sub(r'http\\S+','',newString)                    # remove URL's\n",
    "    newString=re.sub(r\"'s\\b\",\" is\",newString)            # removing 's\n",
    "    x=re.sub(r'[%#@$&!+|ð¦±]','',newString)             # Remove spacial char\n",
    "    #x=re.sub(r'[!\"#$%&\\'()*+,-./:;<=>?@[\\\\]^_`{|}~]','',newString)                   # remove punctuations mark\n",
    "    newString=re.sub(\"[^a-zA-Z]\",\" \",newString)          # fetching out only char\n",
    "    #lower_case=letters_only.lower()                     # converting everything in lowercase\n",
    "    words=newString.split()                              # split based on space to remove multiple spaces\n",
    "    return (\" \".join(words)).strip()"
   ]
  },
  {
   "cell_type": "code",
   "execution_count": 64,
   "metadata": {
    "colab": {},
    "colab_type": "code",
    "id": "yG9cGObXh6gp"
   },
   "outputs": [],
   "source": [
    "# reading text file\n",
    "text = \"\"\n",
    "text_tweets = get_tweets(start_date_befor,end_date_befor,topic)\n",
    "\n",
    "length = len(text_tweets)\n",
    "\n",
    "for i in range(0, length):\n",
    "    text = text_tweets[i][0] + \" \" + text\n",
    "\n",
    "# converting to lowercase\n",
    "lower_case_befor = text.lower()"
   ]
  },
  {
   "cell_type": "code",
   "execution_count": 65,
   "metadata": {
    "colab": {
     "base_uri": "https://localhost:8080/",
     "height": 155
    },
    "colab_type": "code",
    "id": "3eOEVcJZhv5f",
    "outputId": "d553b330-c526-4414-dea1-dcb129da9995"
   },
   "outputs": [
    {
     "data": {
      "text/plain": [
       "'coronavirus treatment trials in new york to begin on tuesday governor cuomo says he is optimistic card tarot readings for phone or facetime to honor the safety amp health of the world during the coronavirus pandemic bohemiantarot bohemian tarot tarotreader tarotreading tarotcards gypsy psychic witch witchcraft wicca quedateencasa coronavirus quedateentuputacasa covid madrid espa a stayathome everyone is saying that we should be consuming lots of fruits and vegetables yet coronavirus lives for days if not weeks on certain surfaces did anyone take into consideration that we may be catching it from the fruits and vegetables sitting out at the markets karantina g nlerim bilmem ka nc g n vaka trilyon teketekbilim covidiot coronavirus sokagacikmaturkiye hayateves ar sakinolchampevdeyim coronaviruspandemic covidiots covid voil c tait il y a tout juste deux mois on peut r crire l histoire mais ce moment l c tait la recommandation de l oms coronavirus muy interesante buen trabajo de pais para resolver todas las dudas preguntas y respuestas sobre el coronavirus covid the doctor who helped defeat smallpox explains what is coming via longreads https pocket co xdancm coronavirus onenewjersey onenewyork from who issues drastic travel ban for foreign nationals amp was excoriated by for it day they failed to pass coronavirus bill b c they did not get what they wanted losers https twitter com who status se a ideia fazer compara o o dia dia das manifesta es contra o congresso stf incentivada e patrocinada pelo antipresidentebolsonaro havia apenas casos uma semana depois das manifesta es dia domingo estamos com mortos e casos positivos do coronavirus asi va la cuarentena con el coronavirus contagio est pel cula se estrenaba hace unos a os atr s y curiosamente cuenta sobre una epidemia mundial causada por un virus originado por un murci lago en china coronavirus coronavirus leaves aussie expats in limbo the canberra times de hecho en la rueda de prensa ofrecida por el alcalde no se mencion alg n proyecto contemplado en estos tres rubros que atendiera a alguna situaci n originada por el coronavirus aqu pueden consultar el mensaje completo de reassured londoners through several terror attacks so so good coronavirus coronapocalypse covfefe sadiqkhan as no m s coronavirus covid rechazocrece covid covidiot coronavirus clubquarantine covid prayersforcoronafreeworld prayersfortheworld prayers pray prayersforcorona prayfortheworld news oh good l a to move homeless into neighborhood recreation centers https www breitbart com health coronavirus los angeles to move homeless into neighborhood recreation centers trump news sharethenews coronavirus tell and to protect people from financial hardship due to the coronavirus pandemic put people first not corporations sign the petition https action consumerreports org finance petition recruiter id national guard activated for new york california and washington amid coronavirus crisis ya tengo lista mi m scara por si se pone duro el asunto del coronavirus chiapadecorzo chiapas parachico i hate it here quaratinelife quarantine covid stayhome lockdown coronavirus socialdistance o coronavirus o produto chin s que eu conhe o que mais durou da vivienda ra vivienda cuarentena preventiva salida de cuarentena playa qu onda vocabularionuevo periodistas noticias coronavirus medidas urgentes para enfrentar la pandemia en chubut propuestos por el partido obrero y el frente de izquierda coronavirus testmasivosya contin a leyendo aqu https m facebook com story php story fbid amp id en espa a el de los contagiados de coronavirus son de la salud al igual en francia e italia que ya han muerto mrdicos covid coronavirus cuarentenaenfamilia prevencionysolidaridad this weekend people have basically been panic buying the outdoors coronavirus covid abandono afetivo tamb m um v rus vamos prevenir n os filhadam e abandonoafetivo coronavirus coronavirus coronavirusupdate if ever there was a time for the avengers to assemble coronavirus very concerned that dr fauci was missing from today is briefing i was concerned that the facepalm felt across the world the other day would be his downfall good grief i hope that is not the case coronavirus drfauci whereisfauci are we losing our minds getting back to reality in the age of realtime data https bit ly b azn coronavirus media covid mexico covid quarentenabrasil baje minute covidiots covidiot stayathome covid sa datemyfamily lapenaencasa coronavirus me gustar a saber exactamente cuantos d as de cuarentena llevamos ya que hay gente que dice que llevamos hay gente que dice que llevamos hay gente que dice que llevamos porfavor alguien puede aclararlo covid stayathome coronavid coronavirus people got time today jajajajajaja coronavirus worldlatinstar com i am still stuck on inmates gettin it coronavirus covid coronavirus stimulus package fails to pass congress insane people are leading us ahora ministro de salud confirma que no hay nuevos casos de covid en paraguay total siguen siendo casos confirmados hoy se procesaron muestras las resultaron negativas quedateencasa coronavirus covid l this is how you use fear to manipulate the market coronavirus covid coronavirus quedateencasa tell and to protect people from financial hardship due to the coronavirus pandemic put people first not corporations sign the petition https action consumerreports org finance petition recruiter id anyone else out here shouting periodt for no reason coronavirus amen iamnotok pelosi is blocking direct cash payments to http citizens wtf https youtu be nktb f ezzg via nancypelosi coronavirus coronavirus news death toll in georgia rises to deaths per k population better headline death in ga per k heart disease cancer accidents asama etc stroke etc dementia diabetes flu amp pneumonia suicide covid coronavirus rdc nos propositions n prendre les mesures n cessaires pour emp cher la rupture des stocks de denr es et biens de premi re n cessit sanctionner toute sp culation par des commer ants v reux qui peut avoir des cons quences sociales graves all these people gon get coronavirus wrestlemania covid covidiot shame on all them people are now at risk for coronaviruspandemic nadie puede ni tiene derecho a hablar de karma por el hecho de que harvey weinstein dio positivo al coronavirus en tanto no tengamos el resultado de que tambi n est infectado hasta ese momento podremos decir que el diablo existe y verdaderamente nos protege en un segundo mensaje el gobernador de tamaulipas reitera el llamado al para que d una soluci n al problema de los migrantes y con ello coadyuvar en la contenci n del coronavirus covid mexico coronavirus parabens pelo trabalho que vem sendo prestado cardi b questions u s govt is response to coronavirus as millions remain in quarantine are you all gonna take our temperature to see if we got it i know i can t find a thermometer anywhere since supposedly it s of st symptoms so who will take my temp coronavirus amigo surcoreano me pasa este enlace sobre la realidad de la gravedad del coronavirus en el mundo playa de lima peru hoy donde en la era moderna nunca hubo tal cantidad de aves lo que est generando la cuarentena obligatoria en el mundo un respiro para la madre tierra nature terre earth smog beach sand coronavirus covid yomequedoencasa climatechange bei einer gef ngnis revolte gegen coronavirus ma nahmen sind in kolumbien mindestens h ftlinge ums leben gekommen und verletzt worden die rebellion ereignete sich im gef ngnis la modelo in der hauptstadt bogot zudem wurden neun w rter verletzt martiallaw is coming i warned about this coronavirus live updates national guard to be deployed in ny california washington news how are other caregivers for theelderly doing what are the issues you are facing right now happy to share advice much love to you all coronavirus covid hey scotty and joshy did you anticipate this too you guys are never going to be able to do anything but play catch up auspol coronavirus i wonder if we will remember your lack of competence and leadership at the next election coronavirus covid canada covid quebec stayhomecanada how severe can the illness be protective screens between checkout staff and customers being installed tonight in the morrisons store i m working in they will be accepting cash but contactless payments to be encouraged covid coronavirus tell and to protect people from financial hardship due to the coronavirus pandemic put people first not corporations sign the petition https action consumerreports org finance petition recruiter id un total de personas fueron diagnosticadas este domingo con coronavirus con lo que ya suman los infectados en todo el pa s day in an effort to bring some joy my wife insisted i plug the christmas lights back in and she is been playing her christmas playlist all day soundtrackofmyquarantine andywilliams christmasinquarantine covid coronavirus coronaviruscanada from a science pov this is bs i m pretty sure that a silk scarf no matter how nice tightly hand woven on an english loom by skilled artist crafts person is no match for coronavirus but wearing it to https www instagram com p b diqhmjjm igshid x kvzshxild hoy te invitamos a lavarte las manos con el grifo cerrado feliz d a mundial del agua terraset agua prevenci n coronavirus not really bored during this quarantine at all but it is kind of funny that in one bag of rice there are grains and only in a different bag same brand covid coronavirus tell and to protect people from financial hardship due to the coronavirus pandemic put people first not corporations sign the petition https action consumerreports org finance petition recruiter id alerta nwo viendo morir a espa a y el futuro de nuestros hijos https www youtube com watch v oulbdabulmg covid coronavirus sembrandopanico borregomatrix gdl lldm franco borsellino de acept el desaf o traeyoung y le agreg dificultad yomequedoencasa viralicemoslaresponsabilidad coronavirus coronav rus brasil tem casos e mortes coronavirus day of self isolation cf and me https youtu be azmu tpjjm via isolation coronavirus covidiots covid coronaviruspandemic foundation please take note shutdownscnow coronavirus the sad reality tho when they end up sick they will be using up precious medical supplies at other peoples expense putting more strain danger to the medical frontline coronavirus estamos de contra o coronavirus com todo nosso orgulho em mostrar as cores do tubar o coloque sua bandeira ou camisa tire uma foto e participe da campanha azulinoficaemcasa vamos vencer essa batalha juntos pracimadelestubar o ma barbara d urso davvero indispensabile in un momento come questo se poi dobbiamo anche affidargli l informazione sul coronavirus siamo apposto lei tutto il suo staff dovrebbe stare a casa come milioni di italiani noneladurso iorestoacasa coronav rus como proceder se os sintomas surgirem https bit ly j ezw usa atlanta emma a year old girl in the us is fighting for her life in an atlanta hospital after testing positive for the coronavirus news https news com au travel coronavirus coronavirus usa year old girl is on a ventilator and fighting for her life c ilhan omar hold trump administration accountable for failing to prepare and stop spread of pandemic which would have prevented crisis we have now coronavirus oigaaaan estoy en depresi n totaaaal mi mam no va venir no estar conmigo cuando nazca ximena todo por el p to coronavirus estoy llorando desde ayer we are going to see aid ramping up because the tidal wave of coronavirus fatality is going to start hitting this week warroompandemic ccpvirus listen amp watch http pandemic warroom org listen live amp coronavirus covid covid besafe bemindful takeprecaution a coronavirus press conference without dr fauci is really a disguised campaign rally for trump s reelection um bom desenho para quem ainda n o entendeu coronavirus quarentenabrasil im obsessed w this video coronavirus covid para quem est com algum sintoma fa a esse teste bem pr tico e r pido s responder algumas perguntas sobre seus sintomas coronavirus covid please push for non profit churches economic help during this time coronavirus can we recall every gov politician political leader who has said us deaths from coronavirus will exponentially rise in the next few weeks as those in italy have if in fact deaths do not rise exponentially amp if majority of those testing positive never exhibit symptoms tell me that bernie did not miss another vote regarding the coronavirus that is not leadership that is dredging up memories of a man who could not be bothered voting during the viet nam era or the reagan era or any era til he could vote for himself as mayor they lost their foreign money laundering setup need to get coffers filled from somewhere no shame no urgency for americans who are struggling speakerpelosi coronavirus things observed while walking through my apartment community people talking to each other from balcony to balcony ok they were drunk and yelling people gathering for a cookout people sitting alone in their cars coronavirus the obamacare lawsuit still goes to the supremes in a public health crisis will the court strike it down allow people with pre existing coronavirus to be denied coverage here is ca ag have not heard recently from tx ag on it covid qu onda los que arman tablas de posiciones de muertos e infectados como si fuera el medallero de los juegos ol mpicos coronavirus mequedoencasa parentine during quarantine heavyweightmusik bigdaddy quarantine coronavirus tennessee call our state will soon pass the point of no return with coronavirus if we do not enact a shelterinplace mandate statewide lives are at stake we need to call and demand that he do what is best for our citizens and healthcare workers covid coronavirusesp coronavirus quedateencasa mexicoencuarentena mexicanosenespa a cuarentena cuarentenacoronavirus espana madrid mexico covid sip pero a n no hay m s datos hay que esperar unos dias m s a ver que tal se ve la pr xima semana coronavirus covid quedateencasa most recent at http thebenote com by dr g s potter the political crisis behind the coronavirus public health crisis more here https bit ly do bdb we don t have time to be abashed and baffled we need to move now to address the impending political crisis il coronavirus in punti la cina ha mentito sui numeri i governi europei sono del tutto inadeguati l europa non esiste il sistema sanitario italiano stato distrutto da anni di tagli sistematici tutti agli arresti domiciliari coronavirus ioc considers postponing tokyo olympics coronavirus coronavirus coronavirus https youtu be hykpqlxb coronavirus lambrenedetto in arrivo in italia aiuti consistenti dalla russia nove aerei militari cargo sono gi partiti dalla federazione russa con dei camion interni alla stiva sono in arrivo nel nord in italia per far fronte all emergenza'"
      ]
     },
     "execution_count": 65,
     "metadata": {},
     "output_type": "execute_result"
    }
   ],
   "source": [
    "cleaned_text_before = cleaner(lower_case_befor)\n",
    "cleaned_text_before"
   ]
  },
  {
   "cell_type": "code",
   "execution_count": 66,
   "metadata": {
    "colab": {},
    "colab_type": "code",
    "id": "-9lFjUKxkdkQ"
   },
   "outputs": [],
   "source": [
    "from nltk.tokenize import word_tokenize\n",
    "tokenized_words_before =nltk.word_tokenize(cleaned_text_before)"
   ]
  },
  {
   "cell_type": "code",
   "execution_count": 67,
   "metadata": {
    "colab": {},
    "colab_type": "code",
    "id": "UjWZrDHkE9f0"
   },
   "outputs": [],
   "source": [
    "# # reading text file\n",
    "# text = \"\"\n",
    "# text_tweets = get_tweets(start_date_befor,end_date_befor,topic)\n",
    "\n",
    "# length = len(text_tweets)\n",
    "\n",
    "# for i in range(0, length):\n",
    "#     text = text_tweets[i][0] + \" \" + text\n",
    "\n",
    "# # converting to lowercase\n",
    "# lower_case = text.lower()\n",
    "\n",
    "# # Removing punctuations\n",
    "# cleaned_text = lower_case.translate(str.maketrans('', '', string.punctuation))\n",
    "\n",
    "# # splitting text into words\n",
    "# tokenized_words_before = cleaned_text.split()"
   ]
  },
  {
   "cell_type": "code",
   "execution_count": 68,
   "metadata": {
    "colab": {},
    "colab_type": "code",
    "id": "O4iNpO8VGNhZ"
   },
   "outputs": [],
   "source": [
    "# reading text file\n",
    "text = \"\"\n",
    "text_tweets = get_tweets(start_date_after,end_date_after,topic)\n",
    "\n",
    "length = len(text_tweets)\n",
    "\n",
    "for i in range(0, length):\n",
    "    text = text_tweets[i][0] + \" \" + text\n",
    "\n",
    "# converting to lowercase\n",
    "lower_case_after = text.lower()\n"
   ]
  },
  {
   "cell_type": "code",
   "execution_count": 69,
   "metadata": {
    "colab": {
     "base_uri": "https://localhost:8080/",
     "height": 155
    },
    "colab_type": "code",
    "id": "rr297xmsjoBZ",
    "outputId": "ae846c96-dfae-48e9-99b2-11afe1b54470"
   },
   "outputs": [
    {
     "data": {
      "text/plain": [
       "'pennsylvania reports new cases and new deaths bringing total confirmed cases there to and total deaths with new cases and new deaths reported today coronavirus covid coronavirusoutbreak sntesalud hoy a os del diadelatierra earthday piensa verde por un planeta azul think green for a blue planet coronavirus covid el m xico fasetres hoynocircula abril amlo snte snteunoauno free telehealth telemedicine healthcare healthtech telemednow healthcareinnovation covid coronavirus stayathome mtc doc boom fauci sweating bullets trump investigating his million obama to develop the coronavirus https youtu be bpwndrgw ki not trump being right coronavirus trump disagrees strongly with georgia s plan to reopen coronavirus coronavirus the uae and pakistan are working to add more flights to repatriate pakistani citizens from the gulf arab state a dubai government source says que loucura isso quando come ou a epidemia do coronav rus eu logo pensei os fumantes est o fritos justamente por se tratar de uma doen a respirat ria agora j se sabe que a doen a muito mais sist mica e justamente a nicotina pode ser um aliado no tratamento surpreso gdf pede estudos para analisar poss vel abertura das escolas https www politicadistrital com br gdf pede estudos para analisar possivel abertura das escolas coronav rus covid escola educa o isolamentosocial covid coronavirus do you have trouble to say hold all bloody hands accountable no one less wuhan pandemic warfare ccp stephenbannon https yes justice seeking tumblr com post covid an official action here s the latest information in the reopening process in pennsylvania coronavirus staysafestayhome will you support your supporters or betray us end the lockdown now https youtu be fajkufjaurg coronavirus covid en medio de la crisis del coronavirus acevedo nos narra historias de latinos con coraje supervivencia y la resiliencia para enfrentar estos tiempos convulsos we cant let covid covid coronavirususa coronavirus get us we gone beat it so here cheer up goodvibesonly https youtu be e m ij my e coronavirus covid coronavirusitalia please do not be denver and reignite the virus spread covid copolitics coronavirus history influenza keeplockdown washington reports new cases and new deaths bringing total confirmed cases there to and total deaths coronavirus covid coronavirusoutbreak ltimo informe situacional sobre coronavirus covid en uruguay correspondiente al de abril hoy se procesaron an lisis con resultados negativos y positivos desde el de marzo se han procesado test con resultados negativos y positivos me at your funeral because you didn t respect the quarantine coronavirus quarantine bitchimissgoingtobarsandbuffalowildwingsbutyoudontseemecomplaining conferencia de prensa coronavirus covid quedateencasa dr rick bright is a career not political official who was leading the effort to develop a coronavirus vaccine as the director of that level of expertise is not mediocre there is nothing quite as funny as is brian williams wrap up of what trump just said in a pressbriefing at the white house coronavirus covid interesante lectura para los amantes de la conspiraci n covid coronavirus savetheworld from coronavirus recycle empty soda bottles into face shields and become a hero billionshields arabic https youtu be f q nfyzvy billionshieldschallenge en medio de la crisis del coronavirus acevedo nos narra historias de latinos con coraje supervivencia y la resiliencia para enfrentar estos tiempos convulsos https bit ly vtnpul i m not rooting for the bluewave but if certain republican governors blow this coronavirus response and re open their states irresponsibly without proper strategy there will be grave health and political consequences even potus trump is concerned about kemp georgia movie theaters have been closed for weeks now because of the coronavirus pandemic many people are wondering when they will reopen who knows but once they do they will like be facing a lot of changes i discuss what some of those changes might be sevgili takip ilerim coronavirus nceden sabitlenmi tweetim de dedi im gibi nesil olarak abd de ok can almaya devam ediyor peki nesil mutasyon ne zaman derseniz o da may s ba nda ve nesil ile vaka durumuna g re ilk kar la acak lke t rkiye yani i imiz zor covid lawsuit filed against over its handling of coronavirus outbreak https abcn ws rsftu via https bit ly twenfermeirascorona o oficial divulgou que profissionais entre enfermeiros t cnicos e assistentes de enfermagem morreram no brasil com suspeita de infec es causadas pela covid entre de mar o e de abril ci ncia sa dep blica covid coronav rus coronavirus sars cov may well come back anytime in the future just like other influenza which by the way is a type of coronavirus worse the virus strains tend to mutate from season to season preventing vaccines from being efficatious alabama reports new cases and new death bringing total confirmed cases there to and total deaths with new cases and new deaths reported today coronavirus covid coronavirusoutbreak more than people across the world have died from the covid coronavirus nearly two thirds of them in europe since the deadly disease emerged in china last december offical sources say what to expect when you go into labor right now https buff ly wvmxtu coronavirus labor maternity apoio a es do gov pr atrav s do min contra coronav rus mucho hablar del covid coronavirus pero nadie habla del genocidio de los fascistas y nazis que mataron a millones de jud os esta foto es la demostraci n de hasta donde son capaces de llegar los fascistas y nazis pero eso os da igual verdad abascal el nuevo franco thank you shri modiji for encouraging this even years after you took charge of this nation is hate the permanent agenda of coronavirus coronawarriors en medio de la crisis del coronavirus acevedo nos narra historias de latinos con coraje supervivencia y la resiliencia para enfrentar estos tiempos convulsos the only way to stop coronavirus is to test everyone there is no other way of stopping it test test test keith sutton says planning to use federal cares funding to help meet needs of special education students during the move to remote learning amid coronavirus coronavirus patrol part that is so much better as compared to the communist democrats who are racists against hard working americans and want to give our money to terrorist iran covid coronavirus these people want you dead never forget that covid coronavirus sunset in the park what are you grateful for sunset sunsets centralpark centralparknyc runner coronavirus corona virus isolation covid emptystreets emptynyc nycshutdown quarantine https www instagram com p b tw ehftlo igshid d ba vnm c it is life sciences wednesday so we found the latest news on coronavirus at home tests industry news and more http ow ly zi y zlxaa coronavirus covid health en medio de la crisis del coronavirus acevedo nos narra historias de latinos con coraje supervivencia y la resiliencia para enfrentar estos tiempos convulsos coronavirus billionshields challenge is here i challenge you to savetheworld thanksdoc from coronavirus billionshieldschallenge eating animals causes pandemics what happened in china can and has happened in the us please prevent a future outbreak and please leave animals off your plate go plant based go vegan go meatless https chooseveg com covid covidiots pressconference coronavirus estamos en fase de coronavirus inf rmate con el equiposalud porque todos y cada uno enfrentamos juntos la adversidad las vegas mayor calls for hotels and casinos to be reopened in cnn interview coronavirus https twitter com i events echa un vistazo al v deo de alan diaz sosa tiktok antesydespueschallenge barbachallenge quien m s se une al reto cuarentena covid coronavirus cuarentenacreativa after wuhan was sealed off from the world acclaimed chinese writer fangfang started an online diary about the coronavirus tragedy unfolding in her hometown now that it is about to be published abroad she is facing a nationalist backlash at home http u afp com nfb covid mapa permite ver qu tan vulnerable es su cuadra frente al coronavirus https www eltiempo com datos coronavirus mapa con las cuadras mas vulnerables de colombia v a almomento conferencia de prensa del coronavirus covid en m xico informe del de abril de gatos con coronavirus dr rick bright head of the us biomedical advanced research and development authority in charge of developing a vaccine against coronavirus said he was removed from his job for opposing the chloroquine treatment promoted by podcast caroline s daughter jemima describes the fight against covid from the uk front line https player whooshkaa com episode id nhsheroes nhscovidheroes nhs covid au coronavirus coronavirusoutbreak healthforall washyourhands covid aus maybe the lasvegas mayor should offer herself to be the st guinea pig for the st covid coronavirus vaccines msm fuckery bahahahaha coronavirus msmhatesamerica qanon wwg wga caught in another lie i don t like having thousands of people around when you don t need em on feb trump said he fired the white house pandemic office to save money but on march claimed he didn t know anything about it coronavirus let us increase that yeast come and hang out supportsmallstreamers trialsofosiris destiny coronavirus esta foto la acabo de tomar hace minutos en mi colonia ubicada en tlalnepantla estado de m xico no cabe duda que elektra y grupo salinas con un foco de infecci n losperiodistas coronavirus a couple of quotes from our earth s future paper on the notion of cumulative hazards see the thread some are relevant to the ongoing covid pandemic coronavirus agupubs thanks for posting this the comments below are fascinating the uk is set to have the worst outcomes of coronavirus in europe and still people instinctively flock behind their team and support the government is at best mediocre handling of it as a es do governo federal para garantir a vida das pessoas durante a pandemia de coronav rus s o fortalecidas todos os dias e a sa de mental dos brasileiros tamb m n o foi deixada de lado memes meme memesdaily memes coronavirus funny quarantinelife tiktok travisscott rodeo when she turn off her comments on tiktok today s mask coronavirus mask socialdistancing covid designs https www instagram com p b tw qdlgb igshid lzznayheoa has she donated her plasma yet to help others have her parents who also claimed to have the coronavirus no we d have seen tweets about it so they either never had it or they re selfish bastards not willing to really help mankind coronav rus o com rcio reabriu em maring provavelmente em dias teremos muito mais casos na cidade quartadetremurasdv ficaemcasa https www youtube com watch v dm wxqlqay coronavirus coronaupdateapril samugam here is the terrifying thing if asymptomatic carriers of covid can infect others indefinitely something we as yet are unclear about and we have no cure vaccine will they too be put into isolation to protect society coronavirus thursdaythoughts thanks to for the hardwork he has done now assam has more than k ppe kit available sir your hardwork is appreciated by all take care of yourself sir coronaupdatesindia coronavirus coronaviruslockdown internacionales el coronavirus tambi n se puede contagiar a trav s de las l grimas m s informaci n http enlacemexico tv internacionales html personas lamentablemente murieron hoy en la argentina por coronavirus nuevos infectados quedateencasa feliz diadelatierra a medida que el mundo enfrenta los efectos del coronavirus el uso sostenible de los recursos del planeta y la lucha contra el cambio clim tico son m s relevantes que nunca descubre porqu en el informe de sostenibilidad del bid https bddy me bgswxi covid coronavirus uspoli uspolitics have you watched tigerking netflix coronavirus realuspolls se ha informado de casi millones de casos en todo el mundo y m s de personas han muerto vemos tendencias al alza en frica centro y sudam rica no se equivoquen queda un largo camino este coronavirus estar con nosotros mucho tiempo covid conferencia de prensa coronavirus covid de abril de unid https youtu be fmezpvqvcqi v a presidente cortizo les pido solidaridad los que est n trabajando no acepten las bolsas o los bonos hay otras personas que no tienen esa oportunidad rpcradio losprimerossiempre coronavirus pty panam ahora nuevo reporte oficial sobre el coronavirus en argentina nuevas muertes total y nuevos contagios total los detalles coronavirus update total cases total deaths total recovered active cases closed cases next update in mins here s the latest information in the reopening process in pennsylvania coronavirus staysafestayhome earth day contemplation my dog appreciating the green of the trees and pasture respect all beings earthday respectallbeings plants animals nature coronavirus karmagawa https www instagram com p b tuhtgjk i igshid uejgx x w e isn t lieber the guy that just got arrested coronavirus covid venture firm benchmark s most high profile partner bill gurley does not plan to return to the firm s next venture fund he kicked out travis at uber invested in grubhub stitch fix amp zillow did wework combined with coronavirus meant peak venturecapital no more easy money reopenamerica hey that is why us has most cases of coronavirus around the world en vivo secretar a de salud muestra los datos m s recientes del coronavirus en el pa s ve aqu la transmisi n https bit ly cgmrno esc chanos por nuevolaredo laredo fm matamoros brownsville fm reynosa mcallen fm whistleblower dr bright coronavirus the pentagon is planning a multicity tour of the u s military s top flight demonstration teams to championnationalunity amid the coronavirus pandemic according to defense officials and a memo obtained by the usa reports new cases and new deaths bringing total confirmed cases there to and total deaths with new cases and new deaths reported today coronavirus covid coronavirusoutbreak how i feel without hockey covid coronavirus potus says he has the power to override bad decisions by governors but absolutely will not rile the base by doing so he disagrees with openings in ga by gov kemp and takes credit for getting kemp elected pressercovid presser covid coronavirus covid some additional facts about covid coronavirus from an expert broad spectrum of diseases wherearethetests testingforcovid testtesttest testingtestingtesting stayhomestaysafe coronavirus live podcast yaron brook show coronavirus amp objectivity on aynrand coronavirus covid objectivism i challenge you to savetheworld from coronavirus recycle empty soda bottles into face shields and become a hero billionshields russian https youtu be xkxctr adjc billionshieldschallenge are you out of work due to coronavirus is your resume ready for when the country opens back up coronavirus tests telemedicine industry https hubs ly h pk jt pro healthtech healthit coronavirus un colegio de laboulaye le deja las actividades a sus alumnos en supermercados y despensas https bit ly bvxpvz'"
      ]
     },
     "execution_count": 69,
     "metadata": {},
     "output_type": "execute_result"
    }
   ],
   "source": [
    "cleaned_text_after = cleaner(lower_case_after)\n",
    "cleaned_text_after"
   ]
  },
  {
   "cell_type": "code",
   "execution_count": 70,
   "metadata": {
    "colab": {},
    "colab_type": "code",
    "id": "DPDU1zETkyaD"
   },
   "outputs": [],
   "source": [
    "tokenized_words_after =nltk.word_tokenize(cleaned_text_after)"
   ]
  },
  {
   "cell_type": "code",
   "execution_count": 71,
   "metadata": {
    "colab": {},
    "colab_type": "code",
    "id": "t9N79mYZGgga"
   },
   "outputs": [],
   "source": [
    "stop_words = ['i', 'me', 'my', 'myself', 'we', 'our', 'ours', 'ourselves', 'you', \"you're\", \"you've\", \"you'll\", \"you'd\", 'your', 'yours', 'yourself', 'yourselves', 'he', 'him', 'his', 'himself', 'she', \"she's\", 'her', 'hers', 'herself', 'it', \"it's\", 'its', 'itself', 'they', 'them', 'their', 'theirs', 'themselves', 'what', 'which', 'who', 'whom', 'this', 'that', \"that'll\", 'these', 'those', 'am', 'is', 'are', 'was', 'were', 'be', 'been', 'being', 'have', 'has', 'had', 'having', 'do', 'does', 'did', 'doing', 'a', 'an', 'the', 'and', 'but', 'if', 'or', 'because', 'as', 'until', 'while', 'of', 'at', 'by', 'for', 'with', 'about', 'against', 'between', 'into', 'through', 'during', 'before', 'after', 'above', 'below', 'to', 'from', 'up', 'down', 'in', 'out', 'on', 'off', 'over', 'under', 'again', 'further', 'then', 'once', 'here', 'there', 'when', 'where', 'why', 'how', 'all', 'any', 'both', 'each', 'few', 'more', 'most', 'other', 'some', 'such', 'no', 'nor', 'not', 'only', 'own', 'same', 'so', 'than', 'too', 'very', 's', 't', 'can', 'will', 'just', 'don', \"don't\", 'should', \"should've\", 'now', 'd', 'll', 'm', 'o', 're', 've', 'y', 'ain', 'aren', \"aren't\", 'couldn', \"couldn't\", 'didn', \"didn't\", 'doesn', \"doesn't\", 'hadn', \"hadn't\", 'hasn', \"hasn't\", 'haven', \"haven't\", 'isn', \"isn't\", 'ma', 'mightn', \"mightn't\", 'mustn', \"mustn't\", 'needn', \"needn't\", 'shan', \"shan't\", 'shouldn', \"shouldn't\", 'wasn', \"wasn't\", 'weren', \"weren't\", 'won', \"won't\", 'wouldn', \"wouldn't\",\"new\"]"
   ]
  },
  {
   "cell_type": "code",
   "execution_count": 72,
   "metadata": {
    "colab": {},
    "colab_type": "code",
    "id": "_pdidcIjG1Ey"
   },
   "outputs": [],
   "source": [
    "# Removing stop words from the tokenized words list\n",
    "final_words_befor = [word for word in tokenized_words_before if word not in stop_words]\n",
    "final_words_after = [word for word in tokenized_words_after if word not in stop_words]"
   ]
  },
  {
   "cell_type": "code",
   "execution_count": 73,
   "metadata": {
    "colab": {
     "base_uri": "https://localhost:8080/",
     "height": 71
    },
    "colab_type": "code",
    "id": "Na_upHNVvn_o",
    "outputId": "00367751-982a-4cdc-a9da-0816f51d8ec8"
   },
   "outputs": [
    {
     "name": "stdout",
     "output_type": "stream",
     "text": [
      "12612\n",
      "coronavirus treatment trial york begin tuesday governor cuomo say optimistic card tarot reading phone facetime honor safety amp health world coronavirus pandemic bohemiantarot bohemian tarot tarotreader tarotreading tarotcards gypsy psychic witch witchcraft wicca quedateencasa coronavirus quedateentuputacasa covid madrid espa stayathome everyone saying consuming lot fruit vegetable yet coronavirus life day week certain surface anyone take consideration may catching fruit vegetable sitting market karantina g nlerim bilmem ka nc g n vaka trilyon teketekbilim covidiot coronavirus sokagacikmaturkiye hayateves ar sakinolchampevdeyim coronaviruspandemic covidiots covid voil c tait il tout juste deux mois peut r crire l histoire mais ce moment l c tait la recommandation de l oms coronavirus muy interesante buen trabajo de pais para resolver toda la dudas preguntas respuestas sobre el coronavirus covid doctor helped defeat smallpox explains coming via longreads http pocket co xdancm coronavirus onenewjersey onenewyork issue drastic travel ban foreign national amp excoriated day failed pas coronavirus bill b c get wanted loser http twitter com status se ideia fazer compara dia dia da manifesta e contra congresso stf incentivada e patrocinada pelo antipresidentebolsonaro havia apenas casos uma semana depois da manifesta e dia domingo estamos com mortos e casos positivos coronavirus asi va la cuarentena con el coronavirus contagio est pel cula se estrenaba hace unos o atr curiosamente cuenta sobre una epidemia mundial causada por un virus originado por un murci lago en china coronavirus coronavirus leaf aussie expat limbo canberra time de hecho en la rueda de prensa ofrecida por el alcalde se mencion alg n proyecto contemplado en estos tres rubros que atendiera alguna situaci n originada por el coronavirus aqu pueden consultar el mensaje completo de reassured londoner several terror attack good coronavirus coronapocalypse covfefe sadiqkhan coronavirus covid rechazocrece covid covidiot coronavirus clubquarantine covid prayersforcoronafreeworld prayersfortheworld prayer pray prayersforcorona prayfortheworld news oh good l move homeless neighborhood recreation center http www breitbart com health coronavirus los angeles move homeless neighborhood recreation center trump news sharethenews coronavirus tell protect people financial hardship due coronavirus pandemic put people first corporation sign petition http action consumerreports org finance petition recruiter id national guard activated york california washington amid coronavirus crisis ya tengo lista mi scara por si se pone duro el asunto del coronavirus chiapadecorzo chiapas parachico hate quaratinelife quarantine covid stayhome lockdown coronavirus socialdistance coronavirus produto chin que eu conhe que mais durou da vivienda ra vivienda cuarentena preventiva salida de cuarentena playa qu onda vocabularionuevo periodistas noticias coronavirus medidas urgentes para enfrentar la pandemia en chubut propuestos por el partido obrero el frente de izquierda coronavirus testmasivosya contin leyendo aqu http facebook com story php story fbid amp id en espa el de los contagiados de coronavirus son de la salud al igual en francia e italia que ya han muerto mrdicos covid coronavirus cuarentenaenfamilia prevencionysolidaridad weekend people basically panic buying outdoors coronavirus covid abandono afetivo tamb um v ru vamos prevenir n o filhadam e abandonoafetivo coronavirus coronavirus coronavirusupdate ever time avenger assemble coronavirus concerned dr fauci missing today briefing concerned facepalm felt across world day would downfall good grief hope case coronavirus drfauci whereisfauci losing mind getting back reality age realtime data http bit ly b azn coronavirus medium covid mexico covid quarentenabrasil baje minute covidiots covidiot stayathome covid sa datemyfamily lapenaencasa coronavirus gustar saber exactamente cuantos de cuarentena llevamos ya que hay gente que dice que llevamos hay gente que dice que llevamos hay gente que dice que llevamos porfavor alguien puede aclararlo covid stayathome coronavid coronavirus people got time today jajajajajaja coronavirus worldlatinstar com still stuck inmate gettin coronavirus covid coronavirus stimulus package fails pas congress insane people leading u ahora ministro de salud confirma que hay nuevos casos de covid en paraguay total siguen siendo casos confirmados hoy se procesaron muestras la resultaron negativas quedateencasa coronavirus covid l use fear manipulate market coronavirus covid coronavirus quedateencasa tell protect people financial hardship due coronavirus pandemic put people first corporation sign petition http action consumerreports org finance petition recruiter id anyone else shouting periodt reason coronavirus amen iamnotok pelosi blocking direct cash payment http citizen wtf http youtu nktb f ezzg via nancypelosi coronavirus coronavirus news death toll georgia rise death per k population better headline death ga per k heart disease cancer accident asama etc stroke etc dementia diabetes flu amp pneumonia suicide covid coronavirus rdc no proposition n prendre le mesures n cessaires pour emp cher la rupture de stock de denr e et biens de premi n cessit sanctionner toute sp culation par de commer ant v reux qui peut avoir de con quences sociales graf people gon get coronavirus wrestlemania covid covidiot shame people risk coronaviruspandemic nadie puede ni tiene derecho hablar de karma por el hecho de que harvey weinstein dio positivo al coronavirus en tanto tengamos el resultado de que tambi n est infectado hasta ese momento podremos decir que el diablo existe verdaderamente no protege en un segundo mensaje el gobernador de tamaulipas reitera el llamado al para que una soluci n al problema de los migrantes con ello coadyuvar en la contenci n del coronavirus covid mexico coronavirus parabens pelo trabalho que vem sendo prestado cardi b question u govt response coronavirus million remain quarantine gon na take temperature see got know find thermometer anywhere since supposedly st symptom take temp coronavirus amigo surcoreano pasa este enlace sobre la realidad de la gravedad del coronavirus en el mundo playa de lima peru hoy donde en la era moderna nunca hubo tal cantidad de aves lo que est generando la cuarentena obligatoria en el mundo un respiro para la madre tierra nature terre earth smog beach sand coronavirus covid yomequedoencasa climatechange bei einer gef ngnis revolte gegen coronavirus nahmen sind kolumbien mindestens h ftlinge ums leben gekommen und verletzt worden die rebellion ereignete sich im gef ngnis la modelo der hauptstadt bogot zudem wurden neun w rter verletzt martiallaw coming warned coronavirus live update national guard deployed ny california washington news caregiver theelderly issue facing right happy share advice much love coronavirus covid hey scotty joshy anticipate guy never going able anything play catch auspol coronavirus wonder remember lack competence leadership next election coronavirus covid canada covid quebec stayhomecanada severe illness protective screen checkout staff customer installed tonight morrison store working accepting cash contactless payment encouraged covid coronavirus tell protect people financial hardship due coronavirus pandemic put people first corporation sign petition http action consumerreports org finance petition recruiter id un total de persona fueron diagnosticadas este domingo con coronavirus con lo que ya suman los infectados en todo el pa day effort bring joy wife insisted plug christmas light back playing christmas playlist day soundtrackofmyquarantine andywilliams christmasinquarantine covid coronavirus coronaviruscanada science pov b pretty sure silk scarf matter nice tightly hand woven english loom skilled artist craft person match coronavirus wearing http www instagram com p b diqhmjjm igshid x kvzshxild hoy te invitamos lavarte la manos con el grifo cerrado feliz mundial del agua terraset agua prevenci n coronavirus really bored quarantine kind funny one bag rice grain different bag brand covid coronavirus tell protect people financial hardship due coronavirus pandemic put people first corporation sign petition http action consumerreports org finance petition recruiter id alerta nwo viendo morir espa el futuro de nuestros hijos http www youtube com watch v oulbdabulmg covid coronavirus sembrandopanico borregomatrix gdl lldm franco borsellino de acept el desaf traeyoung le agreg dificultad yomequedoencasa viralicemoslaresponsabilidad coronavirus coronav ru brasil tem casos e mortes coronavirus day self isolation cf http youtu azmu tpjjm via isolation coronavirus covidiots covid coronaviruspandemic foundation please take note shutdownscnow coronavirus sad reality tho end sick using precious medical supply people expense putting strain danger medical frontline coronavirus estamos de contra coronavirus com todo nosso orgulho em mostrar core tubar coloque sua bandeira ou camisa tire uma foto e participe da campanha azulinoficaemcasa vamos vencer essa batalha junto pracimadelestubar barbara urso davvero indispensabile un momento come questo se poi dobbiamo anche affidargli l informazione sul coronavirus siamo apposto lei tutto il suo staff dovrebbe stare casa come milioni di italiani noneladurso iorestoacasa coronav ru como proceder se o sintomas surgirem http bit ly j ezw usa atlanta emma year old girl u fighting life atlanta hospital testing positive coronavirus news http news com au travel coronavirus coronavirus usa year old girl ventilator fighting life c ilhan omar hold trump administration accountable failing prepare stop spread pandemic would prevented crisis coronavirus oigaaaan estoy en depresi n totaaaal mi mam va venir estar conmigo cuando nazca ximena todo por el p coronavirus estoy llorando desde ayer going see aid ramping tidal wave coronavirus fatality going start hitting week warroompandemic ccpvirus listen amp watch http pandemic warroom org listen live amp coronavirus covid covid besafe bemindful takeprecaution coronavirus press conference without dr fauci really disguised campaign rally trump reelection um bom desenho para quem ainda n entendeu coronavirus quarentenabrasil im obsessed w video coronavirus covid para quem est com algum sintoma fa esse teste bem pr tico e r pido responder algumas perguntas sobre seus sintomas coronavirus covid please push non profit church economic help time coronavirus recall every gov politician political leader said u death coronavirus exponentially rise next week italy fact death rise exponentially amp majority testing positive never exhibit symptom tell bernie miss another vote regarding coronavirus leadership dredging memory man could bothered voting viet nam era reagan era era til could vote mayor lost foreign money laundering setup need get coffer filled somewhere shame urgency american struggling speakerpelosi coronavirus thing observed walking apartment community people talking balcony balcony ok drunk yelling people gathering cookout people sitting alone car coronavirus obamacare lawsuit still go supremes public health crisis court strike allow people pre existing coronavirus denied coverage ca ag heard recently tx ag covid qu onda los que arman tablas de posiciones de muertos e infectados como si fuera el medallero de los juegos ol mpicos coronavirus mequedoencasa parentine quarantine heavyweightmusik bigdaddy quarantine coronavirus tennessee call state soon pas point return coronavirus enact shelterinplace mandate statewide life stake need call demand best citizen healthcare worker covid coronavirusesp coronavirus quedateencasa mexicoencuarentena mexicanosenespa cuarentena cuarentenacoronavirus espana madrid mexico covid sip pero n hay datos hay que esperar unos dia ver que tal se la pr xima semana coronavirus covid quedateencasa recent http thebenote com dr g potter political crisis behind coronavirus public health crisis http bit ly bdb time abashed baffled need move address impending political crisis il coronavirus punti la cina ha mentito sui numeri governi europei sono del tutto inadeguati l europa non esiste il sistema sanitario italiano stato distrutto da anni di tagli sistematici tutti agli arresti domiciliari coronavirus ioc considers postponing tokyo olympics coronavirus coronavirus coronavirus http youtu hykpqlxb coronavirus lambrenedetto arrivo italia aiuti consistenti dalla russia nove aerei militari cargo sono gi partiti dalla federazione russa con dei camion interni alla stiva sono arrivo nel nord italia per far fronte emergenza\n"
     ]
    }
   ],
   "source": [
    "# Lemmatize list of words and join\n",
    "from nltk.stem import WordNetLemmatizer\n",
    "# Init the Wordnet Lemmatizer\n",
    "lemmatizer = WordNetLemmatizer()\n",
    "lemmatized_output_befor = ' '.join([lemmatizer.lemmatize(w) for w in final_words_befor])\n",
    "print(len(lemmatized_output_befor))  \n",
    "print(lemmatized_output_befor) "
   ]
  },
  {
   "cell_type": "code",
   "execution_count": 74,
   "metadata": {
    "colab": {
     "base_uri": "https://localhost:8080/",
     "height": 71
    },
    "colab_type": "code",
    "id": "U7GzJ-1tG-Fx",
    "outputId": "54878584-60d8-4a56-db17-4b6cd83502e7"
   },
   "outputs": [
    {
     "name": "stdout",
     "output_type": "stream",
     "text": [
      "12432\n",
      "pennsylvania report case death bringing total confirmed case total death case death reported today coronavirus covid coronavirusoutbreak sntesalud hoy o del diadelatierra earthday piensa verde por un planeta azul think green blue planet coronavirus covid el xico fasetres hoynocircula abril amlo snte snteunoauno free telehealth telemedicine healthcare healthtech telemednow healthcareinnovation covid coronavirus stayathome mtc doc boom fauci sweating bullet trump investigating million obama develop coronavirus http youtu bpwndrgw ki trump right coronavirus trump disagrees strongly georgia plan reopen coronavirus coronavirus uae pakistan working add flight repatriate pakistani citizen gulf arab state dubai government source say que loucura isso quando come ou epidemia coronav ru eu logo pensei o fumantes est fritos justamente por se tratar de uma doen respirat ria agora j se sabe que doen muito mais sist mica e justamente nicotina pode ser um aliado tratamento surpreso gdf pede estudos para analisar po vel abertura da escolas http www politicadistrital com br gdf pede estudos para analisar possivel abertura da escolas coronav ru covid escola educa isolamentosocial covid coronavirus trouble say hold bloody hand accountable one le wuhan pandemic warfare ccp stephenbannon http yes justice seeking tumblr com post covid official action latest information reopening process pennsylvania coronavirus staysafestayhome support supporter betray u end lockdown http youtu fajkufjaurg coronavirus covid en medio de la crisis del coronavirus acevedo no narra historias de latino con coraje supervivencia la resiliencia para enfrentar estos tiempos convulsos cant let covid covid coronavirususa coronavirus get u gone beat cheer goodvibesonly http youtu e ij e coronavirus covid coronavirusitalia please denver reignite virus spread covid copolitics coronavirus history influenza keeplockdown washington report case death bringing total confirmed case total death coronavirus covid coronavirusoutbreak ltimo informe situacional sobre coronavirus covid en uruguay correspondiente al de abril hoy se procesaron lisis con resultados negativos positivos desde el de marzo se han procesado test con resultados negativos positivos funeral respect quarantine coronavirus quarantine bitchimissgoingtobarsandbuffalowildwingsbutyoudontseemecomplaining conferencia de prensa coronavirus covid quedateencasa dr rick bright career political official leading effort develop coronavirus vaccine director level expertise mediocre nothing quite funny brian williams wrap trump said pressbriefing white house coronavirus covid interesante lectura para los amantes de la conspiraci n covid coronavirus savetheworld coronavirus recycle empty soda bottle face shield become hero billionshields arabic http youtu f q nfyzvy billionshieldschallenge en medio de la crisis del coronavirus acevedo no narra historias de latino con coraje supervivencia la resiliencia para enfrentar estos tiempos convulsos http bit ly vtnpul rooting bluewave certain republican governor blow coronavirus response open state irresponsibly without proper strategy grave health political consequence even potus trump concerned kemp georgia movie theater closed week coronavirus pandemic many people wondering reopen know like facing lot change discus change might sevgili takip ilerim coronavirus nceden sabitlenmi tweetim de dedi im gibi nesil olarak abd de ok almaya devam ediyor peki nesil mutasyon ne zaman derseniz da may ba nda nesil ile vaka durumuna g ilk kar la acak lke rkiye yani imiz zor covid lawsuit filed handling coronavirus outbreak http abcn w rsftu via http bit ly twenfermeirascorona oficial divulgou que profissionais entre enfermeiros cnicos e assistentes de enfermagem morreram brasil com suspeita de infec e causadas pela covid entre de mar e de abril ci ncia sa dep blica covid coronav ru coronavirus sars cov may well come back anytime future like influenza way type coronavirus worse virus strain tend mutate season season preventing vaccine efficatious alabama report case death bringing total confirmed case total death case death reported today coronavirus covid coronavirusoutbreak people across world died covid coronavirus nearly two third europe since deadly disease emerged china last december offical source say expect go labor right http buff ly wvmxtu coronavirus labor maternity apoio e gov pr atrav min contra coronav ru mucho hablar del covid coronavirus pero nadie habla del genocidio de los fascista nazi que mataron millones de jud o esta foto e la demostraci n de hasta donde son capaces de llegar los fascista nazi pero eso o da igual verdad abascal el nuevo franco thank shri modiji encouraging even year took charge nation hate permanent agenda coronavirus coronawarriors en medio de la crisis del coronavirus acevedo no narra historias de latino con coraje supervivencia la resiliencia para enfrentar estos tiempos convulsos way stop coronavirus test everyone way stopping test test test keith sutton say planning use federal care funding help meet need special education student move remote learning amid coronavirus coronavirus patrol part much better compared communist democrat racist hard working american want give money terrorist iran covid coronavirus people want dead never forget covid coronavirus sunset park grateful sunset sunset centralpark centralparknyc runner coronavirus corona virus isolation covid emptystreets emptynyc nycshutdown quarantine http www instagram com p b tw ehftlo igshid ba vnm c life science wednesday found latest news coronavirus home test industry news http ow ly zi zlxaa coronavirus covid health en medio de la crisis del coronavirus acevedo no narra historias de latino con coraje supervivencia la resiliencia para enfrentar estos tiempos convulsos coronavirus billionshields challenge challenge savetheworld thanksdoc coronavirus billionshieldschallenge eating animal cause pandemic happened china happened u please prevent future outbreak please leave animal plate go plant based go vegan go meatless http chooseveg com covid covidiots pressconference coronavirus estamos en fase de coronavirus inf rmate con el equiposalud porque todos cada uno enfrentamos junto la adversidad la vega mayor call hotel casino reopened cnn interview coronavirus http twitter com event echa un vistazo al v deo de alan diaz sosa tiktok antesydespueschallenge barbachallenge quien se une al reto cuarentena covid coronavirus cuarentenacreativa wuhan sealed world acclaimed chinese writer fangfang started online diary coronavirus tragedy unfolding hometown published abroad facing nationalist backlash home http u afp com nfb covid mapa permite ver qu tan vulnerable e su cuadra frente al coronavirus http www eltiempo com datos coronavirus mapa con la cuadras ma vulnerables de colombia v almomento conferencia de prensa del coronavirus covid en xico informe del de abril de gatos con coronavirus dr rick bright head u biomedical advanced research development authority charge developing vaccine coronavirus said removed job opposing chloroquine treatment promoted podcast caroline daughter jemima describes fight covid uk front line http player whooshkaa com episode id nhsheroes nhscovidheroes nh covid au coronavirus coronavirusoutbreak healthforall washyourhands covid au maybe lasvegas mayor offer st guinea pig st covid coronavirus vaccine msm fuckery bahahahaha coronavirus msmhatesamerica qanon wwg wga caught another lie like thousand people around need em feb trump said fired white house pandemic office save money march claimed know anything coronavirus let u increase yeast come hang supportsmallstreamers trialsofosiris destiny coronavirus esta foto la acabo de tomar hace minutos en mi colonia ubicada en tlalnepantla estado de xico cabe duda que elektra grupo salina con un foco de infecci n losperiodistas coronavirus couple quote earth future paper notion cumulative hazard see thread relevant ongoing covid pandemic coronavirus agupubs thanks posting comment fascinating uk set worst outcome coronavirus europe still people instinctively flock behind team support government best mediocre handling e governo federal para garantir vida da pessoas durante pandemia de coronav ru fortalecidas todos o dia e sa de mental do brasileiros tamb n foi deixada de lado meme meme memesdaily meme coronavirus funny quarantinelife tiktok travisscott rodeo turn comment tiktok today mask coronavirus mask socialdistancing covid design http www instagram com p b tw qdlgb igshid lzznayheoa donated plasma yet help others parent also claimed coronavirus seen tweet either never selfish bastard willing really help mankind coronav ru com rcio reabriu em maring provavelmente em dia teremos muito mais casos na cidade quartadetremurasdv ficaemcasa http www youtube com watch v dm wxqlqay coronavirus coronaupdateapril samugam terrifying thing asymptomatic carrier covid infect others indefinitely something yet unclear cure vaccine put isolation protect society coronavirus thursdaythoughts thanks hardwork done assam k ppe kit available sir hardwork appreciated take care sir coronaupdatesindia coronavirus coronaviruslockdown internacionales el coronavirus tambi n se puede contagiar trav de la l grimas informaci n http enlacemexico tv internacionales html persona lamentablemente murieron hoy en la argentina por coronavirus nuevos infectados quedateencasa feliz diadelatierra medida que el mundo enfrenta los efectos del coronavirus el uso sostenible de los recursos del planeta la lucha contra el cambio clim tico son relevantes que nunca descubre porqu en el informe de sostenibilidad del bid http bddy bgswxi covid coronavirus uspoli uspolitics watched tigerking netflix coronavirus realuspolls se ha informado de casi millones de casos en todo el mundo de persona han muerto vemos tendencias al alza en frica centro sudam rica se equivoquen queda un largo camino este coronavirus estar con nosotros mucho tiempo covid conferencia de prensa coronavirus covid de abril de unid http youtu fmezpvqvcqi v presidente cortizo le pido solidaridad los que est n trabajando acepten la bolsas los bonos hay otras persona que tienen esa oportunidad rpcradio losprimerossiempre coronavirus pty panam ahora nuevo reporte oficial sobre el coronavirus en argentina nuevas muertes total nuevos contagios total los detalles coronavirus update total case total death total recovered active case closed case next update min latest information reopening process pennsylvania coronavirus staysafestayhome earth day contemplation dog appreciating green tree pasture respect being earthday respectallbeings plant animal nature coronavirus karmagawa http www instagram com p b tuhtgjk igshid uejgx x w e lieber guy got arrested coronavirus covid venture firm benchmark high profile partner bill gurley plan return firm next venture fund kicked travis uber invested grubhub stitch fix amp zillow wework combined coronavirus meant peak venturecapital easy money reopenamerica hey u case coronavirus around world en vivo secretar de salud muestra los datos recientes del coronavirus en el pa aqu la transmisi n http bit ly cgmrno esc chanos por nuevolaredo laredo fm matamoros brownsville fm reynosa mcallen fm whistleblower dr bright coronavirus pentagon planning multicity tour u military top flight demonstration team championnationalunity amid coronavirus pandemic according defense official memo obtained usa report case death bringing total confirmed case total death case death reported today coronavirus covid coronavirusoutbreak feel without hockey covid coronavirus potus say power override bad decision governor absolutely rile base disagrees opening ga gov kemp take credit getting kemp elected pressercovid presser covid coronavirus covid additional fact covid coronavirus expert broad spectrum disease wherearethetests testingforcovid testtesttest testingtestingtesting stayhomestaysafe coronavirus live podcast yaron brook show coronavirus amp objectivity aynrand coronavirus covid objectivism challenge savetheworld coronavirus recycle empty soda bottle face shield become hero billionshields russian http youtu xkxctr adjc billionshieldschallenge work due coronavirus resume ready country open back coronavirus test telemedicine industry http hub ly h pk jt pro healthtech healthit coronavirus un colegio de laboulaye le deja la actividades sus alumnos en supermercados despensas http bit ly bvxpvz\n"
     ]
    }
   ],
   "source": [
    "# Lemmatize list of words and join\n",
    "from nltk.stem import WordNetLemmatizer\n",
    "# Init the Wordnet Lemmatizer\n",
    "lemmatizer = WordNetLemmatizer()\n",
    "lemmatized_output_after = ' '.join([lemmatizer.lemmatize(w) for w in final_words_after])\n",
    "print(len(lemmatized_output_after))  \n",
    "print(lemmatized_output_after) "
   ]
  },
  {
   "cell_type": "code",
   "execution_count": 75,
   "metadata": {
    "colab": {
     "base_uri": "https://localhost:8080/",
     "height": 71
    },
    "colab_type": "code",
    "id": "_jogTU3NJ91Q",
    "outputId": "7c9d5adf-cc46-4628-e031-20bbfaf4dd40"
   },
   "outputs": [
    {
     "name": "stdout",
     "output_type": "stream",
     "text": [
      "11618\n",
      "pennsylvania report case death bring total confirm case total death case death report today coronaviru covid coronavirusoutbreak sntesalud hoy os del diadelatierra earthday piensa verd por un planeta azul think green blue planet coronaviru covid el xico fasetr hoynocircula abril amlo snte snteunoauno free telehealth telemedicin healthcar healthtech telemednow healthcareinnov covid coronaviru stayathom mtc doc boom fauci sweat bullet trump investig million obama develop coronaviru http youtu bpwndrgw ki trump right coronaviru trump disagre strongli georgia plan reopen coronaviru coronaviru uae pakistan work add flight repatri pakistani citizen gulf arab state dubai govern sourc say que loucura isso quando come ou epidemia coronav ru eu logo pensei os fumant est frito justament por se tratar de uma doen respirat ria agora j se sabe que doen muito mai sist mica e justament nicotina pode ser um aliado tratamento surpreso gdf pede estudo para analisar poss vel abertura da escola http www politicadistrit com br gdf pede estudo para analisar possivel abertura da escola coronav ru covid escola educa isolamentosoci covid coronaviru troubl say hold bloodi hand account one less wuhan pandem warfar ccp stephenbannon http ye justic seek tumblr com post covid offici action latest inform reopen process pennsylvania coronaviru staysafestayhom support support betray us end lockdown http youtu fajkufjaurg coronaviru covid en medio de la crisi del coronaviru acevedo no narra historia de latino con coraj supervivencia la resiliencia para enfrentar esto tiempo convulso cant let covid covid coronavirususa coronaviru get us gone beat cheer goodvibesonli http youtu e ij e coronaviru covid coronavirusitalia pleas denver reignit viru spread covid copolit coronaviru histori influenza keeplockdown washington report case death bring total confirm case total death coronaviru covid coronavirusoutbreak ltimo inform situacion sobr coronaviru covid en uruguay correspondient al de abril hoy se procesaron lisi con resultado negativo positivo desd el de marzo se han procesado test con resultado negativo positivo funer respect quarantin coronaviru quarantin bitchimissgoingtobarsandbuffalowildwingsbutyoudontseemecomplain conferencia de prensa coronaviru covid quedateencasa dr rick bright career polit offici lead effort develop coronaviru vaccin director level expertis mediocr noth quit funni brian william wrap trump said pressbrief white hous coronaviru covid interesant lectura para lo amant de la conspiraci n covid coronaviru savetheworld coronaviru recycl empti soda bottl face shield becom hero billionshield arab http youtu f q nfyzvi billionshieldschalleng en medio de la crisi del coronaviru acevedo no narra historia de latino con coraj supervivencia la resiliencia para enfrentar esto tiempo convulso http bit ly vtnpul root bluewav certain republican governor blow coronaviru respons open state irrespons without proper strategi grave health polit consequ even potu trump concern kemp georgia movi theater close week coronaviru pandem mani peopl wonder reopen know like face lot chang discuss chang might sevgili takip ilerim coronaviru nceden sabitlenmi tweetim de dedi im gibi nesil olarak abd de ok almaya devam ediyor peki nesil mutasyon ne zaman derseniz da may ba nda nesil ile vaka durumuna g ilk kar la acak lke rkiy yani imiz zor covid lawsuit file handl coronaviru outbreak http abcn ws rsftu via http bit ly twenfermeirascorona ofici divulg que profissionai entr enfermeiro cnico e assistent de enfermagem morreram brasil com suspeita de infec es causada pela covid entr de mar e de abril ci ncia sa dep blica covid coronav ru coronaviru sar cov may well come back anytim futur like influenza way type coronaviru wors viru strain tend mutat season season prevent vaccin efficati alabama report case death bring total confirm case total death case death report today coronaviru covid coronavirusoutbreak peopl across world die covid coronaviru nearli two third europ sinc deadli diseas emerg china last decemb offic sourc say expect go labor right http buff ly wvmxtu coronaviru labor matern apoio es gov pr atrav min contra coronav ru mucho hablar del covid coronaviru pero nadi habla del genocidio de lo fascista nazi que mataron millon de jud os esta foto es la demostraci n de hasta dond son capac de llegar lo fascista nazi pero eso os da igual verdad abasc el nuevo franco thank shri modiji encourag even year took charg nation hate perman agenda coronaviru coronawarrior en medio de la crisi del coronaviru acevedo no narra historia de latino con coraj supervivencia la resiliencia para enfrentar esto tiempo convulso way stop coronaviru test everyon way stop test test test keith sutton say plan use feder care fund help meet need special educ student move remot learn amid coronaviru coronaviru patrol part much better compar communist democrat racist hard work american want give money terrorist iran covid coronaviru peopl want dead never forget covid coronaviru sunset park grate sunset sunset centralpark centralparknyc runner coronaviru corona viru isol covid emptystreet emptynyc nycshutdown quarantin http www instagram com p b tw ehftlo igshid ba vnm c life scienc wednesday found latest news coronaviru home test industri news http ow ly zi zlxaa coronaviru covid health en medio de la crisi del coronaviru acevedo no narra historia de latino con coraj supervivencia la resiliencia para enfrentar esto tiempo convulso coronaviru billionshield challeng challeng savetheworld thanksdoc coronaviru billionshieldschalleng eat anim caus pandem happen china happen us pleas prevent futur outbreak pleas leav anim plate go plant base go vegan go meatless http chooseveg com covid covidiot pressconfer coronaviru estamo en fase de coronaviru inf rmate con el equiposalud porqu todo cada uno enfrentamo junto la adversidad la vega mayor call hotel casino reopen cnn interview coronaviru http twitter com event echa un vistazo al v deo de alan diaz sosa tiktok antesydespueschalleng barbachalleng quien se une al reto cuarentena covid coronaviru cuarentenacreativa wuhan seal world acclaim chines writer fangfang start onlin diari coronaviru tragedi unfold hometown publish abroad face nationalist backlash home http u afp com nfb covid mapa permit ver qu tan vulner es su cuadra frent al coronaviru http www eltiempo com dato coronaviru mapa con la cuadra ma vulner de colombia v almomento conferencia de prensa del coronaviru covid en xico inform del de abril de gato con coronaviru dr rick bright head us biomed advanc research develop author charg develop vaccin coronaviru said remov job oppos chloroquin treatment promot podcast carolin daughter jemima describ fight covid uk front line http player whooshkaa com episod id nhshero nhscovidhero nh covid au coronaviru coronavirusoutbreak healthforal washyourhand covid au mayb lasvega mayor offer st guinea pig st covid coronaviru vaccin msm fuckeri bahahahaha coronaviru msmhatesamerica qanon wwg wga caught anoth lie like thousand peopl around need em feb trump said fire white hous pandem offic save money march claim know anyth coronaviru let us increas yeast come hang supportsmallstream trialsofosiri destini coronaviru esta foto la acabo de tomar hace minuto en mi colonia ubicada en tlalnepantla estado de xico cabe duda que elektra grupo salina con un foco de infecci n losperiodista coronaviru coupl quot earth futur paper notion cumul hazard see thread relev ongo covid pandem coronaviru agupub thank post comment fascin uk set worst outcom coronaviru europ still peopl instinct flock behind team support govern best mediocr handl es governo feder para garantir vida da pessoa durant pandemia de coronav ru fortalecida todo os dia e sa de mental do brasileiro tamb n foi deixada de lado meme meme memesdaili meme coronaviru funni quarantinelif tiktok travisscott rodeo turn comment tiktok today mask coronaviru mask socialdistanc covid design http www instagram com p b tw qdlgb igshid lzznayheoa donat plasma yet help other parent also claim coronaviru seen tweet either never selfish bastard will realli help mankind coronav ru com rcio reabriu em mare provavelment em dia teremo muito mai caso na cidad quartadetremurasdv ficaemcasa http www youtub com watch v dm wxqlqay coronaviru coronaupdateapril samugam terrifi thing asymptomat carrier covid infect other indefinit someth yet unclear cure vaccin put isol protect societi coronaviru thursdaythought thank hardwork done assam k ppe kit avail sir hardwork appreci take care sir coronaupdatesindia coronaviru coronaviruslockdown internacional el coronaviru tambi n se pued contagiar trav de la l grima informaci n http enlacemexico tv internacional html persona lamentablement murieron hoy en la argentina por coronaviru nuevo infectado quedateencasa feliz diadelatierra medida que el mundo enfrenta lo efecto del coronaviru el uso sosten de lo recurso del planeta la lucha contra el cambio clim tico son relevant que nunca descubr porqu en el inform de sostenibilidad del bid http bddi bgswxi covid coronaviru uspoli uspolit watch tigerk netflix coronaviru realuspol se ha informado de casi millon de caso en todo el mundo de persona han muerto vemo tendencia al alza en frica centro sudam rica se equivoquen queda un largo camino est coronaviru estar con nosotro mucho tiempo covid conferencia de prensa coronaviru covid de abril de unid http youtu fmezpvqvcqi v president cortizo le pido solidaridad lo que est n trabajando acepten la bolsa lo bono hay otra persona que tienen esa oportunidad rpcradio losprimerossiempr coronaviru pti panam ahora nuevo report ofici sobr el coronaviru en argentina nueva muert total nuevo contagio total lo detal coronaviru updat total case total death total recov activ case close case next updat min latest inform reopen process pennsylvania coronaviru staysafestayhom earth day contempl dog appreci green tree pastur respect be earthday respectallb plant anim natur coronaviru karmagawa http www instagram com p b tuhtgjk igshid uejgx x w e lieber guy got arrest coronaviru covid ventur firm benchmark high profil partner bill gurley plan return firm next ventur fund kick travi uber invest grubhub stitch fix amp zillow wework combin coronaviru meant peak venturecapit easi money reopenamerica hey us case coronaviru around world en vivo secretar de salud muestra lo dato recient del coronaviru en el pa aqu la transmisi n http bit ly cgmrno esc chano por nuevolaredo laredo fm matamoro brownsvil fm reynosa mcallen fm whistleblow dr bright coronaviru pentagon plan multic tour u militari top flight demonstr team championnationalun amid coronaviru pandem accord defens offici memo obtain usa report case death bring total confirm case total death case death report today coronaviru covid coronavirusoutbreak feel without hockey covid coronaviru potu say power overrid bad decis governor absolut rile base disagre open ga gov kemp take credit get kemp elect pressercovid presser covid coronaviru covid addit fact covid coronaviru expert broad spectrum diseas wherearethetest testingforcovid testtesttest testingtestingtest stayhomestaysaf coronaviru live podcast yaron brook show coronaviru amp object aynrand coronaviru covid objectiv challeng savetheworld coronaviru recycl empti soda bottl face shield becom hero billionshield russian http youtu xkxctr adjc billionshieldschalleng work due coronaviru resum readi countri open back coronaviru test telemedicin industri http hub ly h pk jt pro healthtech healthit coronaviru un colegio de laboulay le deja la actividad su alumno en supermercado despensa http bit ly bvxpvz\n"
     ]
    }
   ],
   "source": [
    "from nltk.stem.porter import PorterStemmer\n",
    "stemmer = PorterStemmer()\n",
    "stem_text_after = ' '.join([stemmer.stem(w) for w in final_words_after])\n",
    "print(len(stem_text_after))  \n",
    "print(stem_text_after) "
   ]
  },
  {
   "cell_type": "code",
   "execution_count": 76,
   "metadata": {
    "colab": {
     "base_uri": "https://localhost:8080/",
     "height": 54
    },
    "colab_type": "code",
    "id": "oCAfc2jEHL9A",
    "outputId": "8f8f7f33-a3ad-4706-d8cf-32e0bb40fb6b"
   },
   "outputs": [
    {
     "name": "stdout",
     "output_type": "stream",
     "text": [
      "Counter({' sad': 4, 'anxiety': 3, ' fearless': 2, ' attracted': 2, ' angry': 2, ' lost': 2, ' bored': 1, ' adequate': 1, ' free': 1, ' happy': 1, ' obsessed': 1, ' alone': 1, 'anxious': 1})\n"
     ]
    }
   ],
   "source": [
    "# Get emotions text\n",
    "emotion_list = []\n",
    "with open(r'C:\\Users\\awadh\\emotions_corona.txt') as file:\n",
    "    for line in file:\n",
    "        clear_line = line.replace('\\n', '').replace(',', '').replace(\"'\", '').strip()\n",
    "        word, emotion = clear_line.split(':')\n",
    "        if word in lemmatized_output_befor:\n",
    "            emotion_list.append(emotion)\n",
    "\n",
    "w_befor = Counter(emotion_list)\n",
    "print(w_befor)"
   ]
  },
  {
   "cell_type": "code",
   "execution_count": 77,
   "metadata": {
    "colab": {
     "base_uri": "https://localhost:8080/",
     "height": 54
    },
    "colab_type": "code",
    "id": "9OcRj8eAHdlb",
    "outputId": "6aea9d9b-56f9-455e-a6fc-cc726acacb81"
   },
   "outputs": [
    {
     "name": "stdout",
     "output_type": "stream",
     "text": [
      "Counter({' sad': 6, 'anxiety': 4, ' angry': 2, ' esteemed': 1, ' happy': 1, ' fearless': 1, ' attracted': 1, ' free': 1, ' independent': 1, ' powerless': 1})\n"
     ]
    }
   ],
   "source": [
    "# Get emotions text\n",
    "emotion_list = []\n",
    "with open(r'C:\\Users\\awadh\\emotions_corona.txt') as file:\n",
    "    for line in file:\n",
    "        clear_line = line.replace('\\n', '').replace(',', '').replace(\"'\", '').strip()\n",
    "        word, emotion = clear_line.split(':')\n",
    "        if word in lemmatized_output_after:\n",
    "            emotion_list.append(emotion)\n",
    "\n",
    "w_after = Counter(emotion_list)\n",
    "print(w_after)"
   ]
  },
  {
   "cell_type": "code",
   "execution_count": 78,
   "metadata": {
    "colab": {
     "base_uri": "https://localhost:8080/",
     "height": 268
    },
    "colab_type": "code",
    "id": "_y1S7iYKHtO_",
    "outputId": "0466cf95-a668-48c7-c0e4-6e96d37e58a7"
   },
   "outputs": [
    {
     "data": {
      "image/png": "[encoded data removed]",
      "text/plain": [
       "<Figure size 432x288 with 1 Axes>"
      ]
     },
     "metadata": {
      "needs_background": "light"
     },
     "output_type": "display_data"
    }
   ],
   "source": [
    "fig, ax1 = plt.subplots()\n",
    "ax1.bar(w_befor.keys(), w_befor.values())\n",
    "fig.autofmt_xdate()\n",
    "#plt.savefig('graph.png')\n",
    "plt.show()"
   ]
  },
  {
   "cell_type": "code",
   "execution_count": 79,
   "metadata": {
    "colab": {
     "base_uri": "https://localhost:8080/",
     "height": 276
    },
    "colab_type": "code",
    "id": "RCh0UtAdHxn5",
    "outputId": "1a67d016-a708-421a-aea6-9af3607b886b"
   },
   "outputs": [
    {
     "data": {
      "image/png": "[encoded data removed]",
      "text/plain": [
       "<Figure size 432x288 with 1 Axes>"
      ]
     },
     "metadata": {
      "needs_background": "light"
     },
     "output_type": "display_data"
    }
   ],
   "source": [
    "fig, ax1 = plt.subplots()\n",
    "ax1.bar(w_after.keys(), w_after.values())\n",
    "fig.autofmt_xdate()\n",
    "#plt.savefig('graph.png')\n",
    "plt.show()"
   ]
  },
  {
   "cell_type": "code",
   "execution_count": null,
   "metadata": {
    "colab": {},
    "colab_type": "code",
    "id": "-dlX5u5KH9vB"
   },
   "outputs": [],
   "source": []
  }
 ],
 "metadata": {
  "colab": {
   "collapsed_sections": [],
   "name": "NLP_Assign_6_Corona_Tweets_Sentiment_Analysis.ipynb",
   "provenance": []
  },
  "kernelspec": {
   "display_name": "Python 3",
   "language": "python",
   "name": "python3"
  },
  "language_info": {
   "codemirror_mode": {
    "name": "ipython",
    "version": 3
   },
   "file_extension": ".py",
   "mimetype": "text/x-python",
   "name": "python",
   "nbconvert_exporter": "python",
   "pygments_lexer": "ipython3",
   "version": "3.7.6"
  }
 },
 "nbformat": 4,
 "nbformat_minor": 1
}
