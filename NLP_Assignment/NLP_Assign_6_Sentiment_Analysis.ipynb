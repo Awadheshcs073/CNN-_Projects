{
 "cells": [
  {
   "cell_type": "code",
   "execution_count": 1,
   "metadata": {
    "colab": {},
    "colab_type": "code",
    "id": "JSN5PGnMS3do"
   },
   "outputs": [],
   "source": [
    "## NLP_Assign_6_Sentiment_Analysis.ipynb"
   ]
  },
  {
   "cell_type": "code",
   "execution_count": 1,
   "metadata": {
    "colab": {
     "base_uri": "https://localhost:8080/",
     "height": 154
    },
    "colab_type": "code",
    "id": "nmQeEwIadQic",
    "outputId": "b56d5397-2a3b-4a22-ac13-b0ba76ec4cb7"
   },
   "outputs": [
    {
     "name": "stderr",
     "output_type": "stream",
     "text": [
      "[nltk_data] Downloading package punkt to\n",
      "[nltk_data]     C:\\Users\\awadh\\AppData\\Roaming\\nltk_data...\n",
      "[nltk_data]   Package punkt is already up-to-date!\n",
      "[nltk_data] Downloading package stopwords to\n",
      "[nltk_data]     C:\\Users\\awadh\\AppData\\Roaming\\nltk_data...\n",
      "[nltk_data]   Package stopwords is already up-to-date!\n",
      "[nltk_data] Downloading package wordnet to\n",
      "[nltk_data]     C:\\Users\\awadh\\AppData\\Roaming\\nltk_data...\n",
      "[nltk_data]   Package wordnet is already up-to-date!\n",
      "[nltk_data] Downloading package vader_lexicon to\n",
      "[nltk_data]     C:\\Users\\awadh\\AppData\\Roaming\\nltk_data...\n",
      "[nltk_data]   Package vader_lexicon is already up-to-date!\n"
     ]
    },
    {
     "data": {
      "text/plain": [
       "True"
      ]
     },
     "execution_count": 1,
     "metadata": {},
     "output_type": "execute_result"
    }
   ],
   "source": [
    "import nltk\n",
    "nltk.download('punkt')\n",
    "nltk.download('stopwords')\n",
    "nltk.download('wordnet')\n",
    "nltk.download('vader_lexicon')"
   ]
  },
  {
   "cell_type": "code",
   "execution_count": 3,
   "metadata": {
    "colab": {
     "base_uri": "https://localhost:8080/",
     "height": 71
    },
    "colab_type": "code",
    "id": "WVk5zvGAcy-J",
    "outputId": "9cc84827-68d8-4f94-d669-a7dc5a5eb254"
   },
   "outputs": [],
   "source": [
    "import string\n",
    "from collections import Counter\n",
    "import matplotlib.pyplot as plt\n",
    "from nltk.corpus import stopwords\n",
    "from nltk.sentiment.vader import SentimentIntensityAnalyzer\n",
    "from nltk.stem import WordNetLemmatizer\n",
    "from nltk.tokenize import word_tokenize\n",
    "#nltk.download('vader_lexicon')\n",
    "import warnings\n",
    "warnings.filterwarnings('ignore')"
   ]
  },
  {
   "cell_type": "code",
   "execution_count": 4,
   "metadata": {
    "colab": {},
    "colab_type": "code",
    "id": "JwXkKA4Xc4XU"
   },
   "outputs": [],
   "source": [
    "text = open(r'C:\\Users\\awadh\\rammandir1.txt', encoding=\"utf-8\").read()\n",
    "lower_case = text.lower()\n",
    "# str.maketrans removes any punctuations \n",
    "cleaned_text = lower_case.translate(str.maketrans('', '', string.punctuation))\n",
    "# Using word_tokenize to tokenize sentence into words\n",
    "tokenized_words = word_tokenize(cleaned_text, \"english\")"
   ]
  },
  {
   "cell_type": "code",
   "execution_count": 7,
   "metadata": {
    "colab": {},
    "colab_type": "code",
    "id": "l9f-snG6dMPN"
   },
   "outputs": [],
   "source": [
    "# Removing Stop Words\n",
    "final_words = []\n",
    "for word in tokenized_words:\n",
    "    if word not in stopwords.words('english'):\n",
    "        final_words.append(word)"
   ]
  },
  {
   "cell_type": "code",
   "execution_count": 8,
   "metadata": {
    "colab": {},
    "colab_type": "code",
    "id": "cIVEkgfRdgAy"
   },
   "outputs": [],
   "source": [
    "lemma_words = []\n",
    "for word in final_words:\n",
    "    word = WordNetLemmatizer().lemmatize(word)\n",
    "    lemma_words.append(word)"
   ]
  },
  {
   "cell_type": "code",
   "execution_count": 9,
   "metadata": {
    "colab": {
     "base_uri": "https://localhost:8080/",
     "height": 120
    },
    "colab_type": "code",
    "id": "J8tUmZHzdp_B",
    "outputId": "f143a566-3dad-45b6-9a72-5a2c2db31b53"
   },
   "outputs": [
    {
     "name": "stdout",
     "output_type": "stream",
     "text": [
      "People emotions from the text \n",
      " [' average', ' hated', ' alone', ' happy', ' esteemed', 'meditative'] \n",
      " \n",
      "\n",
      "Count of each emotion \n",
      " Counter({' average': 1, ' hated': 1, ' alone': 1, ' happy': 1, ' esteemed': 1, 'meditative': 1})\n"
     ]
    }
   ],
   "source": [
    "emotion_list = []\n",
    "with open(r'C:\\Users\\awadh\\emotions.txt', 'r') as file:\n",
    "    for line in file:\n",
    "        clear_line = line.replace(\"\\n\", '').replace(\",\", '').replace(\"'\", '').strip()\n",
    "        word, emotion = clear_line.split(':')\n",
    "        if word in lemma_words:\n",
    "            emotion_list.append(emotion)\n",
    "\n",
    "print(\"People emotions from the text \\n\", emotion_list, '\\n \\n')\n",
    "w = Counter(emotion_list)\n",
    "print(\"Count of each emotion \\n\", w)"
   ]
  },
  {
   "cell_type": "code",
   "execution_count": 10,
   "metadata": {
    "colab": {
     "base_uri": "https://localhost:8080/",
     "height": 34
    },
    "colab_type": "code",
    "id": "C-QDks7Cx51X",
    "outputId": "52ad3275-00b2-42de-960d-5dbc80d83e20"
   },
   "outputs": [
    {
     "name": "stdout",
     "output_type": "stream",
     "text": [
      "{'neg': 0.086, 'neu': 0.747, 'pos': 0.168, 'compound': 0.9974}\n"
     ]
    }
   ],
   "source": [
    "sia = SentimentIntensityAnalyzer()\n",
    "print (sia.polarity_scores(cleaned_text))"
   ]
  },
  {
   "cell_type": "code",
   "execution_count": 11,
   "metadata": {
    "colab": {},
    "colab_type": "code",
    "id": "j7dfTgR4gvh-"
   },
   "outputs": [],
   "source": [
    "def sentiment_analyse(sentiment_text):\n",
    "    \n",
    "    score = SentimentIntensityAnalyzer().polarity_scores(sentiment_text)\n",
    "    \n",
    "    if score['neg'] > score['pos']:\n",
    "        print(\"\\n     ******Negative Sentiment*******\")\n",
    "        \n",
    "    elif score['neg'] < score['pos']:\n",
    "        print(\"\\n     ******Positive Sentiment*******\")\n",
    "    else:\n",
    "        print(\"Neutral Sentiment\")"
   ]
  },
  {
   "cell_type": "code",
   "execution_count": 12,
   "metadata": {
    "colab": {
     "base_uri": "https://localhost:8080/",
     "height": 302
    },
    "colab_type": "code",
    "id": "5jlLjK7RhDqo",
    "outputId": "81296bd6-1885-4957-a7af-149300abf671"
   },
   "outputs": [
    {
     "name": "stdout",
     "output_type": "stream",
     "text": [
      "\n",
      "     ******Positive Sentiment*******\n"
     ]
    },
    {
     "data": {
      "image/png": "[encoded data removed]",
      "text/plain": [
       "<Figure size 432x288 with 1 Axes>"
      ]
     },
     "metadata": {
      "needs_background": "light"
     },
     "output_type": "display_data"
    }
   ],
   "source": [
    "sentiment_analyse(cleaned_text)\n",
    "\n",
    "fig, ax1 = plt.subplots()\n",
    "ax1.bar(w.keys(), w.values())\n",
    "fig.autofmt_xdate()\n",
    "plt.savefig('graph.png')\n",
    "plt.show()"
   ]
  },
  {
   "cell_type": "code",
   "execution_count": 10,
   "metadata": {
    "colab": {},
    "colab_type": "code",
    "id": "gXPDqt-BhICS"
   },
   "outputs": [],
   "source": []
  }
 ],
 "metadata": {
  "colab": {
   "collapsed_sections": [],
   "name": "NLP_Assign_6_Sentiment_Analysis.ipynb",
   "provenance": []
  },
  "kernelspec": {
   "display_name": "Python 3",
   "language": "python",
   "name": "python3"
  },
  "language_info": {
   "codemirror_mode": {
    "name": "ipython",
    "version": 3
   },
   "file_extension": ".py",
   "mimetype": "text/x-python",
   "name": "python",
   "nbconvert_exporter": "python",
   "pygments_lexer": "ipython3",
   "version": "3.7.6"
  }
 },
 "nbformat": 4,
 "nbformat_minor": 1
}
