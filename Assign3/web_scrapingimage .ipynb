{
 "cells": [
  {
   "cell_type": "code",
   "execution_count": 5,
   "metadata": {},
   "outputs": [],
   "source": [
    "from selenium import webdriver \n",
    "import os \n"
   ]
  },
  {
   "cell_type": "code",
   "execution_count": 6,
   "metadata": {},
   "outputs": [],
   "source": [
    "driver=webdriver.Chrome(executable_path='C:\\\\Users\\\\Awadhesh\\\\dataset1\\\\chromedriver.exe')"
   ]
  },
  {
   "cell_type": "code",
   "execution_count": 7,
   "metadata": {},
   "outputs": [],
   "source": [
    "my_page=driver.get(\"https://www.flipkart.com/search?q=jeans&sid=clo%2Cvua%2Ck58%2Ci51&as=on&as-show=on&otracker=AS_QueryStore_OrganicAutoSuggest_1_3_na_na_na&otracker1=AS_QueryStore_OrganicAutoSuggest_1_3_na_na_na&as-pos=1&as-type=RECENT&suggestionId=jeans%7CMen%27s+Jeans&requestId=40b2473c-32e2-4961-a028-08b757521282&as-searchtext=jea&page=2\")"
   ]
  },
  {
   "cell_type": "code",
   "execution_count": 8,
   "metadata": {},
   "outputs": [],
   "source": [
    " def make_directory(dirname):\n",
    "     current_path=os.getcwd()\n",
    "     path= os.path.join(current_path, dirname)\n",
    "     if not os.path.exists(path):\n",
    "        os.makedirs(path)"
   ]
  },
  {
   "cell_type": "code",
   "execution_count": 9,
   "metadata": {},
   "outputs": [],
   "source": [
    "make_directory(\"flipcart_Jeans\")\n"
   ]
  },
  {
   "cell_type": "markdown",
   "metadata": {},
   "source": [
    "Scraping Image URL Exceptions "
   ]
  },
  {
   "cell_type": "code",
   "execution_count": 10,
   "metadata": {},
   "outputs": [
    {
     "name": "stdout",
     "output_type": "stream",
     "text": [
      "<selenium.webdriver.remote.webelement.WebElement (session=\"3f556413995a12243b35fe3cfa12095c\", element=\"c7dbb3ab-a0cc-408c-ae55-af3a655d7c20\")>\n"
     ]
    }
   ],
   "source": [
    "images=driver.find_elements_by_xpath(\"//img[@class='_3togXc']\")\n",
    "print(images[0])"
   ]
  },
  {
   "cell_type": "code",
   "execution_count": 11,
   "metadata": {},
   "outputs": [
    {
     "name": "stdout",
     "output_type": "stream",
     "text": [
      "https://rukminim1.flixcart.com/image/329/395/k0y6cnk0/jean/z/a/5/32-maw19jn157-metronaut-original-imafkhxxzvygs34z.jpeg?q=50\n",
      "https://rukminim1.flixcart.com/image/329/395/jhgl5e80/jean/z/8/u/36-lj116-lzard-original-imaf5agyk7fhatc5.jpeg?q=50\n",
      "https://rukminim1.flixcart.com/image/329/395/k3q76a80/jean/z/h/k/32-18298-0627-levi-s-original-imafmrgsyhryyv6a.jpeg?q=50\n",
      "https://rukminim1.flixcart.com/image/329/395/k0flmkw0/jean/y/h/j/32-l36144248smu-lee-original-imafk75yhbtkervz.jpeg?q=50\n",
      "https://rukminim1.flixcart.com/image/329/395/k0plpjk0/jean/t/f/q/42-bepldrj01-42-khakee-dais-original-imafgdh5g5ph6thc.jpeg?q=50\n",
      "https://rukminim1.flixcart.com/image/329/395/jydaqa80/jean/y/z/9/30-bepldrjo1black-dais-original-imafgmfy6vudurvj.jpeg?q=50\n",
      "https://rukminim1.flixcart.com/image/329/395/jucz98w0/jean/g/n/t/32-mss19jn125-metronaut-original-imaffgf6hdwswgbu.jpeg?q=50\n",
      "https://rukminim1.flixcart.com/image/329/395/jactbww0/jean/r/j/6/36-mjr-kc-02-editlook-original-imaez7ffths6ggpx.jpeg?q=50\n",
      "https://rukminim1.flixcart.com/image/329/395/k0zlsi80/jean/a/n/w/28-jeanstripebwr-white-urbano-fashion-original-imafknv4mpb5nfgh.jpeg?q=50\n",
      "https://rukminim1.flixcart.com/image/329/395/k0wqwsw0/jean/z/g/9/32-maw19jn102-metronaut-original-imafkhfggwtz9bgy.jpeg?q=50\n",
      "https://rukminim1.flixcart.com/image/329/395/jrs3mvk0/jean/3/m/h/32-mss19ajn003-metronaut-original-imafdg5dvvtj7wfw.jpeg?q=50\n",
      "https://rukminim1.flixcart.com/image/329/395/jyeq64w0/jean/e/h/a/38-bepldrjo1darkblue-dais-original-imafgnggr6hnkgjf.jpeg?q=50\n",
      "https://rukminim1.flixcart.com/image/329/395/jsge4cw0/jean/h/w/e/40-hpsjogger-black-urbano-fashion-original-imafey94hfth8259.jpeg?q=50\n",
      "https://rukminim1.flixcart.com/image/329/395/k0y6cnk0/jean/f/z/w/32-maw19jn205-metronaut-original-imafkm8cjfee7mvu.jpeg?q=50\n",
      "https://rukminim1.flixcart.com/image/329/395/jw2f6vk0/jean/u/c/y/34-mft-22347-h-76-black-stone-mufti-original-imafgtzwygaryemz.jpeg?q=50\n",
      "https://rukminim1.flixcart.com/image/329/395/k5pn6vk0/jean/m/2/4/32-kjb-1409-dnft-gry-killer-original-imafz9xjgkhguknc.jpeg?q=50\n",
      "https://rukminim1.flixcart.com/image/329/395/jynat8w0/jean/f/7/6/32-mss19jn037b-metronaut-original-imafgmhn6hhnqnue.jpeg?q=50\n",
      "https://rukminim1.flixcart.com/image/329/395/jsuoivk0/jean/3/z/b/32-4jk-cjog-ridge-vogue-original-imafe8qzwpsghybv.jpeg?q=50\n",
      "https://rukminim1.flixcart.com/image/329/395/k12go7k0/jean/6/u/f/32-maw19jn137-metronaut-original-imafkpz2d3e6yqqf.jpeg?q=50\n",
      "https://rukminim1.flixcart.com/image/329/395/k1s6ljk0/jean/c/p/t/32-l36192248smu-lee-original-imafh9cpzntzs4sz.jpeg?q=50\n",
      "https://rukminim1.flixcart.com/image/329/395/k70spzk0/jean/m/v/v/30-hljn000688-highlander-original-imafpchx5hdf8g2q.jpeg?q=50\n",
      "https://rukminim1.flixcart.com/image/329/395/k0zlsi80/jean/d/t/h/32-maw19jn139-metronaut-original-imafkmgrmarsbc9f.jpeg?q=50\n",
      "https://rukminim1.flixcart.com/image/329/395/jhuvjww0/jean/a/u/s/28-denimrelax-7-tribewear-original-imaf5rechkxzfhhv.jpeg?q=50\n",
      "https://rukminim1.flixcart.com/image/329/395/k12go7k0/jean/f/3/q/32-maw19jn149-metronaut-original-imafkq66ftjhstur.jpeg?q=50\n",
      "https://rukminim1.flixcart.com/image/329/395/jyafukw0/jean/k/8/s/32-maw19jn008-metronaut-original-imafghefqmzmbwm2.jpeg?q=50\n",
      "https://rukminim1.flixcart.com/image/329/395/k7ksvww0/jean/y/u/k/32-mss20jn039a-metronaut-original-imafpsfupphbesqt.jpeg?q=50\n",
      "https://rukminim1.flixcart.com/image/329/395/jq5iky80/jean/t/f/8/36-ss19jn-s2l-m-pln-nbu-campus-sutra-original-imafc7e3hvhvgjrz.jpeg?q=50\n",
      "https://rukminim1.flixcart.com/image/329/395/k5vcya80/jean/f/f/p/38-pm204027ua04-pepe-jeans-original-imafzgcwgzupwdnu.jpeg?q=50\n",
      "https://rukminim1.flixcart.com/image/329/395/k5h2jrk0/jean/f/n/w/32-kjb-1406-dnft-ptrl-killer-original-imafz57ujdvhtyhr.jpeg?q=50\n",
      "https://rukminim1.flixcart.com/image/329/395/jynat8w0/jean/z/p/f/32-w34946w22smu-wrangler-original-imafgerzkce8xg7c.jpeg?q=50\n",
      "https://rukminim1.flixcart.com/image/329/395/kbb49zk0/jean/f/z/a/38-bmw-darklevis-d-ben-martin-original-imafszrt2eye6n7b.jpeg?q=50\n",
      "https://rukminim1.flixcart.com/image/329/395/k70spzk0/jean/z/r/z/30-000898-highlander-original-imafpchp2cvfe8qz.jpeg?q=50\n",
      "https://rukminim1.flixcart.com/image/329/395/jhuvjww0/jean/a/p/c/36-denimrelax-d-tribewear-original-imaf5redpehgvfqm.jpeg?q=50\n",
      "https://rukminim1.flixcart.com/image/329/395/k12go7k0/jean/h/z/q/32-maw19jn201-metronaut-original-imafkq66pw4x2haf.jpeg?q=50\n",
      "https://rukminim1.flixcart.com/image/329/395/k5msb680/jean/6/t/b/32-earo-dev-76-spykar-original-imafz8qra9m5ynwe.jpeg?q=50\n",
      "https://rukminim1.flixcart.com/image/329/395/jxxkvww0/jean/n/g/c/32-w34947w22smu-wrangler-original-imafgad5gx3ysexv.jpeg?q=50\n",
      "https://rukminim1.flixcart.com/image/329/395/k7xnukw0/jean/s/c/c/32-kjb-1241-slnkft-bl-killer-original-imafq2fycyujzphg.jpeg?q=50\n",
      "https://rukminim1.flixcart.com/image/329/395/jvgzl3k0/jean/w/5/5/30-bepldrj01-30-lightblue-dais-original-imafgdh7ubyxvfqd.jpeg?q=50\n",
      "https://rukminim1.flixcart.com/image/329/395/k0y6cnk0/jean/h/p/e/32-mss19ajn003b-metronaut-original-imafkhbbfj8fzdhx.jpeg?q=50\n",
      "https://rukminim1.flixcart.com/image/329/395/k12go7k0/jean/t/g/b/32-maw19jn130b-metronaut-original-imafkpgy7zgx3uxc.jpeg?q=50\n"
     ]
    }
   ],
   "source": [
    "urls=[]\n",
    "for image in images:\n",
    "    source=image.get_attribute('src')\n",
    "    urls.append(source)\n",
    "    print(source)"
   ]
  },
  {
   "cell_type": "code",
   "execution_count": 12,
   "metadata": {},
   "outputs": [
    {
     "data": {
      "text/plain": [
       "40"
      ]
     },
     "execution_count": 12,
     "metadata": {},
     "output_type": "execute_result"
    }
   ],
   "source": [
    "len(urls)"
   ]
  },
  {
   "cell_type": "code",
   "execution_count": 13,
   "metadata": {},
   "outputs": [],
   "source": [
    "import shutil\n",
    "import requests\n"
   ]
  },
  {
   "cell_type": "code",
   "execution_count": 17,
   "metadata": {},
   "outputs": [
    {
     "name": "stdout",
     "output_type": "stream",
     "text": [
      "Downloading 1 of 40 images\n",
      "Downloading 2 of 40 images\n",
      "Downloading 3 of 40 images\n",
      "Downloading 4 of 40 images\n",
      "Downloading 5 of 40 images\n",
      "Downloading 6 of 40 images\n",
      "Downloading 7 of 40 images\n",
      "Downloading 8 of 40 images\n",
      "Downloading 9 of 40 images\n",
      "Downloading 10 of 40 images\n",
      "Downloading 11 of 40 images\n",
      "Downloading 12 of 40 images\n",
      "Downloading 13 of 40 images\n",
      "Downloading 14 of 40 images\n",
      "Downloading 15 of 40 images\n",
      "Downloading 16 of 40 images\n",
      "Downloading 17 of 40 images\n",
      "Downloading 18 of 40 images\n",
      "Downloading 19 of 40 images\n",
      "Downloading 20 of 40 images\n",
      "Downloading 21 of 40 images\n",
      "Downloading 22 of 40 images\n",
      "Downloading 23 of 40 images\n",
      "Downloading 24 of 40 images\n",
      "Downloading 25 of 40 images\n",
      "Downloading 26 of 40 images\n",
      "Downloading 27 of 40 images\n",
      "Downloading 28 of 40 images\n",
      "Downloading 29 of 40 images\n",
      "Downloading 30 of 40 images\n",
      "Downloading 31 of 40 images\n",
      "Downloading 32 of 40 images\n",
      "Downloading 33 of 40 images\n",
      "Downloading 34 of 40 images\n",
      "Downloading 35 of 40 images\n",
      "Downloading 36 of 40 images\n",
      "Downloading 37 of 40 images\n",
      "Downloading 38 of 40 images\n",
      "Downloading 39 of 40 images\n",
      "Downloading 40 of 40 images\n"
     ]
    }
   ],
   "source": [
    "for index, link in enumerate(urls):\n",
    "    print(\"Downloading {0} of {1} images\".format(index+1,len(urls)))\n",
    "    response=requests.get(link)\n",
    "    with open('flipcart_Jeans/img_{0}.jpg'.format(index),\"wb\") as file:\n",
    "         file.write(response.content)"
   ]
  },
  {
   "cell_type": "code",
   "execution_count": null,
   "metadata": {},
   "outputs": [],
   "source": []
  }
 ],
 "metadata": {
  "kernelspec": {
   "display_name": "Python 3",
   "language": "python",
   "name": "python3"
  },
  "language_info": {
   "codemirror_mode": {
    "name": "ipython",
    "version": 3
   },
   "file_extension": ".py",
   "mimetype": "text/x-python",
   "name": "python",
   "nbconvert_exporter": "python",
   "pygments_lexer": "ipython3",
   "version": "3.7.3"
  }
 },
 "nbformat": 4,
 "nbformat_minor": 2
}
