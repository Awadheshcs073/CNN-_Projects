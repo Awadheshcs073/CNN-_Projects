{
 "cells": [
  {
   "cell_type": "markdown",
   "metadata": {
    "colab_type": "text",
    "id": "xtw90CR6BnnY"
   },
   "source": [
    "Awadhesh Yadav\n",
    "Batch-1814"
   ]
  },
  {
   "cell_type": "code",
   "execution_count": 3,
   "metadata": {
    "colab": {},
    "colab_type": "code",
    "id": "YF5VL2DiNDAO"
   },
   "outputs": [
    {
     "name": "stderr",
     "output_type": "stream",
     "text": [
      "Using TensorFlow backend.\n",
      "C:\\Users\\awadh\\Anaconda3\\lib\\site-packages\\tensorflow\\python\\framework\\dtypes.py:516: FutureWarning: Passing (type, 1) or '1type' as a synonym of type is deprecated; in a future version of numpy, it will be understood as (type, (1,)) / '(1,)type'.\n",
      "  _np_qint8 = np.dtype([(\"qint8\", np.int8, 1)])\n",
      "C:\\Users\\awadh\\Anaconda3\\lib\\site-packages\\tensorflow\\python\\framework\\dtypes.py:517: FutureWarning: Passing (type, 1) or '1type' as a synonym of type is deprecated; in a future version of numpy, it will be understood as (type, (1,)) / '(1,)type'.\n",
      "  _np_quint8 = np.dtype([(\"quint8\", np.uint8, 1)])\n",
      "C:\\Users\\awadh\\Anaconda3\\lib\\site-packages\\tensorflow\\python\\framework\\dtypes.py:518: FutureWarning: Passing (type, 1) or '1type' as a synonym of type is deprecated; in a future version of numpy, it will be understood as (type, (1,)) / '(1,)type'.\n",
      "  _np_qint16 = np.dtype([(\"qint16\", np.int16, 1)])\n",
      "C:\\Users\\awadh\\Anaconda3\\lib\\site-packages\\tensorflow\\python\\framework\\dtypes.py:519: FutureWarning: Passing (type, 1) or '1type' as a synonym of type is deprecated; in a future version of numpy, it will be understood as (type, (1,)) / '(1,)type'.\n",
      "  _np_quint16 = np.dtype([(\"quint16\", np.uint16, 1)])\n",
      "C:\\Users\\awadh\\Anaconda3\\lib\\site-packages\\tensorflow\\python\\framework\\dtypes.py:520: FutureWarning: Passing (type, 1) or '1type' as a synonym of type is deprecated; in a future version of numpy, it will be understood as (type, (1,)) / '(1,)type'.\n",
      "  _np_qint32 = np.dtype([(\"qint32\", np.int32, 1)])\n",
      "C:\\Users\\awadh\\Anaconda3\\lib\\site-packages\\tensorflow\\python\\framework\\dtypes.py:525: FutureWarning: Passing (type, 1) or '1type' as a synonym of type is deprecated; in a future version of numpy, it will be understood as (type, (1,)) / '(1,)type'.\n",
      "  np_resource = np.dtype([(\"resource\", np.ubyte, 1)])\n",
      "C:\\Users\\awadh\\Anaconda3\\lib\\site-packages\\tensorboard\\compat\\tensorflow_stub\\dtypes.py:541: FutureWarning: Passing (type, 1) or '1type' as a synonym of type is deprecated; in a future version of numpy, it will be understood as (type, (1,)) / '(1,)type'.\n",
      "  _np_qint8 = np.dtype([(\"qint8\", np.int8, 1)])\n",
      "C:\\Users\\awadh\\Anaconda3\\lib\\site-packages\\tensorboard\\compat\\tensorflow_stub\\dtypes.py:542: FutureWarning: Passing (type, 1) or '1type' as a synonym of type is deprecated; in a future version of numpy, it will be understood as (type, (1,)) / '(1,)type'.\n",
      "  _np_quint8 = np.dtype([(\"quint8\", np.uint8, 1)])\n",
      "C:\\Users\\awadh\\Anaconda3\\lib\\site-packages\\tensorboard\\compat\\tensorflow_stub\\dtypes.py:543: FutureWarning: Passing (type, 1) or '1type' as a synonym of type is deprecated; in a future version of numpy, it will be understood as (type, (1,)) / '(1,)type'.\n",
      "  _np_qint16 = np.dtype([(\"qint16\", np.int16, 1)])\n",
      "C:\\Users\\awadh\\Anaconda3\\lib\\site-packages\\tensorboard\\compat\\tensorflow_stub\\dtypes.py:544: FutureWarning: Passing (type, 1) or '1type' as a synonym of type is deprecated; in a future version of numpy, it will be understood as (type, (1,)) / '(1,)type'.\n",
      "  _np_quint16 = np.dtype([(\"quint16\", np.uint16, 1)])\n",
      "C:\\Users\\awadh\\Anaconda3\\lib\\site-packages\\tensorboard\\compat\\tensorflow_stub\\dtypes.py:545: FutureWarning: Passing (type, 1) or '1type' as a synonym of type is deprecated; in a future version of numpy, it will be understood as (type, (1,)) / '(1,)type'.\n",
      "  _np_qint32 = np.dtype([(\"qint32\", np.int32, 1)])\n",
      "C:\\Users\\awadh\\Anaconda3\\lib\\site-packages\\tensorboard\\compat\\tensorflow_stub\\dtypes.py:550: FutureWarning: Passing (type, 1) or '1type' as a synonym of type is deprecated; in a future version of numpy, it will be understood as (type, (1,)) / '(1,)type'.\n",
      "  np_resource = np.dtype([(\"resource\", np.ubyte, 1)])\n"
     ]
    }
   ],
   "source": [
    "import keras\n",
    "import sys\n",
    "from matplotlib import pyplot\n",
    "from keras.utils import to_categorical\n",
    "from keras.models import Sequential\n",
    "from keras.layers import Conv2D\n",
    "from keras.layers import MaxPooling2D\n",
    "from keras.layers import Dense\n",
    "from keras.layers import Flatten\n",
    "from keras.optimizers import SGD\n",
    "from keras.preprocessing.image import ImageDataGenerator\n",
    "from keras.layers import Dropout\n",
    "from keras.callbacks import EarlyStopping ,ModelCheckpoint"
   ]
  },
  {
   "cell_type": "code",
   "execution_count": 4,
   "metadata": {
    "colab": {},
    "colab_type": "code",
    "id": "zoF3yjJkV-Hk"
   },
   "outputs": [],
   "source": [
    "def define_model():\n",
    "  model = Sequential()\n",
    "  model.add(Conv2D(32, (3, 3), activation='relu', kernel_initializer='he_uniform', padding='same', input_shape=(64, 64, 3)))\n",
    "  model.add(MaxPooling2D((2, 2)))\n",
    "  #model.add(Dropout(0.2))\n",
    "  model.add(Conv2D(64, (3, 3), activation='relu', kernel_initializer='he_uniform', padding='same'))\n",
    "  model.add(MaxPooling2D((2, 2)))\n",
    "  #model.add(Dropout(0.2))\n",
    "  model.add(Flatten())\n",
    "  model.add(Dense(128, activation='relu', kernel_initializer='he_uniform'))\n",
    "  #model.add(Dropout(0.4))\n",
    "  model.add(Dense(1, activation='sigmoid'))\n",
    "\n",
    "\t# compile model\n",
    "  #opt = SGD(lr=0.001, momentum=0.9)\n",
    "  #opt = keras.optimizers.Adadelta()\n",
    "  #opt = keras.optimizers.RMSprop(lr=0.001)\n",
    "  #opt = keras.optimizers.Nadam(lr=0.001)\n",
    "  opt = keras.optimizers.Adam(learning_rate=0.001)\n",
    "  #opt = keras.optimizers.SGD(momentum=0.01, nesterov=True)\n",
    "  model.compile(optimizer=opt, loss='binary_crossentropy', metrics=['accuracy'])\n",
    "  return model\n"
   ]
  },
  {
   "cell_type": "code",
   "execution_count": 5,
   "metadata": {
    "colab": {},
    "colab_type": "code",
    "id": "yEY4IgES0MpL"
   },
   "outputs": [],
   "source": [
    "# plot diagnostic learning curves\n",
    "def summarize_diagnostics(history):\n",
    "\t# plot loss\n",
    "\tpyplot.subplot(211)\n",
    "\tpyplot.title('Cross Entropy Loss')\n",
    "\tpyplot.plot(history.history['loss'], color='blue', label='train')\n",
    "\tpyplot.plot(history.history['val_loss'], color='orange', label='test')\n",
    "\t# plot accuracy\n",
    "\tpyplot.subplot(212)\n",
    "\tpyplot.title('Classification Accuracy')\n",
    "\tpyplot.plot(history.history['accuracy'], color='blue', label='train')\n",
    "\tpyplot.plot(history.history['val_accuracy'], color='orange', label='test')\n",
    "\t# save plot to file\n",
    "\tfilename = sys.argv[0].split('/')[-1]\n",
    "\tpyplot.savefig(filename + '_plot.png')\n",
    "\tpyplot.close()"
   ]
  },
  {
   "cell_type": "code",
   "execution_count": 6,
   "metadata": {
    "colab": {
     "base_uri": "https://localhost:8080/",
     "height": 411
    },
    "colab_type": "code",
    "id": "8POh05io0ig9",
    "outputId": "8329dcf7-dc3a-428e-bc7f-c2d12d08e278"
   },
   "outputs": [
    {
     "name": "stdout",
     "output_type": "stream",
     "text": [
      "WARNING:tensorflow:From C:\\Users\\awadh\\Anaconda3\\lib\\site-packages\\keras\\backend\\tensorflow_backend.py:4070: The name tf.nn.max_pool is deprecated. Please use tf.nn.max_pool2d instead.\n",
      "\n",
      "WARNING:tensorflow:From C:\\Users\\awadh\\Anaconda3\\lib\\site-packages\\tensorflow\\python\\ops\\nn_impl.py:180: add_dispatch_support.<locals>.wrapper (from tensorflow.python.ops.array_ops) is deprecated and will be removed in a future version.\n",
      "Instructions for updating:\n",
      "Use tf.where in 2.0, which has the same broadcast rule as np.where\n",
      "Model: \"sequential_1\"\n",
      "_________________________________________________________________\n",
      "Layer (type)                 Output Shape              Param #   \n",
      "=================================================================\n",
      "conv2d_1 (Conv2D)            (None, 64, 64, 32)        896       \n",
      "_________________________________________________________________\n",
      "max_pooling2d_1 (MaxPooling2 (None, 32, 32, 32)        0         \n",
      "_________________________________________________________________\n",
      "conv2d_2 (Conv2D)            (None, 32, 32, 64)        18496     \n",
      "_________________________________________________________________\n",
      "max_pooling2d_2 (MaxPooling2 (None, 16, 16, 64)        0         \n",
      "_________________________________________________________________\n",
      "flatten_1 (Flatten)          (None, 16384)             0         \n",
      "_________________________________________________________________\n",
      "dense_1 (Dense)              (None, 128)               2097280   \n",
      "_________________________________________________________________\n",
      "dense_2 (Dense)              (None, 1)                 129       \n",
      "=================================================================\n",
      "Total params: 2,116,801\n",
      "Trainable params: 2,116,801\n",
      "Non-trainable params: 0\n",
      "_________________________________________________________________\n",
      "None\n"
     ]
    }
   ],
   "source": [
    "\n",
    "model = define_model()\n",
    "print(model.summary())"
   ]
  },
  {
   "cell_type": "code",
   "execution_count": 7,
   "metadata": {
    "colab": {
     "base_uri": "https://localhost:8080/",
     "height": 51
    },
    "colab_type": "code",
    "id": "anZTsaW8WaR7",
    "outputId": "9c212ae9-2af5-42f6-ca04-e7e8eccff173"
   },
   "outputs": [
    {
     "name": "stdout",
     "output_type": "stream",
     "text": [
      "Found 1262 images belonging to 2 classes.\n",
      "Found 40 images belonging to 2 classes.\n"
     ]
    }
   ],
   "source": [
    "# call define model function\n",
    "model = define_model()\n",
    "datagen = ImageDataGenerator(rescale=1.0/255.0)\n",
    "\n",
    "# prepare iterators\n",
    "train_it = datagen.flow_from_directory(r'C:\\Users\\awadh\\fk_clothes_data\\augu_data_train',\n",
    "class_mode='binary', batch_size=70, target_size=(64, 64))\n",
    "test_it = datagen.flow_from_directory(r'C:\\Users\\awadh\\fk_clothes_data\\test_clothes',\n",
    "class_mode='binary', batch_size=70, target_size=(64, 64))\n"
   ]
  },
  {
   "cell_type": "markdown",
   "metadata": {
    "colab_type": "text",
    "id": "_L4T3zyqDnjc"
   },
   "source": [
    "**Implement EarlyStopping & Checkpoint**"
   ]
  },
  {
   "cell_type": "code",
   "execution_count": 8,
   "metadata": {
    "colab": {},
    "colab_type": "code",
    "id": "fsuCBhXmEOWJ"
   },
   "outputs": [],
   "source": [
    "checkpoint = ModelCheckpoint(r'C:\\Users\\awadh\\mycnn_models\\model_checkpoint_Adam.h5',\n",
    "                             monitor='val_loss', \n",
    "                             verbose=1, \n",
    "                             save_best_only=True, \n",
    "                             mode='min')\n",
    "callbacks =[checkpoint] "
   ]
  },
  {
   "cell_type": "code",
   "execution_count": 9,
   "metadata": {
    "colab": {},
    "colab_type": "code",
    "id": "J1BI1ti6eUD1"
   },
   "outputs": [],
   "source": [
    "from keras.callbacks import EarlyStopping, ReduceLROnPlateau\n",
    "earlystop = EarlyStopping(monitor='val_loss', \n",
    "                          min_delta=0, \n",
    "                          patience=3, \n",
    "                          verbose=1, \n",
    "                          restore_best_weights=True)\n",
    "\n",
    "callbacks = [earlystop,checkpoint]"
   ]
  },
  {
   "cell_type": "code",
   "execution_count": 10,
   "metadata": {
    "colab": {
     "base_uri": "https://localhost:8080/",
     "height": 1000
    },
    "colab_type": "code",
    "id": "4eSGRJlrsJZy",
    "outputId": "4f5ce420-0eff-4bad-85c3-93e9ebed5bf3"
   },
   "outputs": [
    {
     "name": "stdout",
     "output_type": "stream",
     "text": [
      "WARNING:tensorflow:From C:\\Users\\awadh\\Anaconda3\\lib\\site-packages\\keras\\backend\\tensorflow_backend.py:422: The name tf.global_variables is deprecated. Please use tf.compat.v1.global_variables instead.\n",
      "\n",
      "Epoch 1/20\n",
      "19/19 [==============================] - 8s 417ms/step - loss: 3.3017 - accuracy: 0.5230 - val_loss: 0.6892 - val_accuracy: 0.5000\n",
      "\n",
      "Epoch 00001: val_loss improved from inf to 0.68918, saving model to C:\\Users\\awadh\\mycnn_models\\model_checkpoint_Adam.h5\n",
      "Epoch 2/20\n",
      "19/19 [==============================] - 7s 368ms/step - loss: 0.6701 - accuracy: 0.6125 - val_loss: 0.6033 - val_accuracy: 0.8500\n",
      "\n",
      "Epoch 00002: val_loss improved from 0.68918 to 0.60335, saving model to C:\\Users\\awadh\\mycnn_models\\model_checkpoint_Adam.h5\n",
      "Epoch 3/20\n",
      "19/19 [==============================] - 7s 390ms/step - loss: 0.5476 - accuracy: 0.7353 - val_loss: 0.3855 - val_accuracy: 0.9000\n",
      "\n",
      "Epoch 00003: val_loss improved from 0.60335 to 0.38548, saving model to C:\\Users\\awadh\\mycnn_models\\model_checkpoint_Adam.h5\n",
      "Epoch 4/20\n",
      "19/19 [==============================] - 8s 404ms/step - loss: 0.3789 - accuracy: 0.8384 - val_loss: 0.2765 - val_accuracy: 0.9250\n",
      "\n",
      "Epoch 00004: val_loss improved from 0.38548 to 0.27649, saving model to C:\\Users\\awadh\\mycnn_models\\model_checkpoint_Adam.h5\n",
      "Epoch 5/20\n",
      "19/19 [==============================] - 8s 410ms/step - loss: 0.3079 - accuracy: 0.8764 - val_loss: 0.2291 - val_accuracy: 0.9500\n",
      "\n",
      "Epoch 00005: val_loss improved from 0.27649 to 0.22912, saving model to C:\\Users\\awadh\\mycnn_models\\model_checkpoint_Adam.h5\n",
      "Epoch 6/20\n",
      "19/19 [==============================] - 8s 401ms/step - loss: 0.2252 - accuracy: 0.9057 - val_loss: 0.2067 - val_accuracy: 0.9250\n",
      "\n",
      "Epoch 00006: val_loss improved from 0.22912 to 0.20666, saving model to C:\\Users\\awadh\\mycnn_models\\model_checkpoint_Adam.h5\n",
      "Epoch 7/20\n",
      "19/19 [==============================] - 8s 404ms/step - loss: 0.1797 - accuracy: 0.9358 - val_loss: 0.2147 - val_accuracy: 0.9250\n",
      "\n",
      "Epoch 00007: val_loss did not improve from 0.20666\n",
      "Epoch 8/20\n",
      "19/19 [==============================] - 8s 395ms/step - loss: 0.1077 - accuracy: 0.9715 - val_loss: 0.2024 - val_accuracy: 0.9500\n",
      "\n",
      "Epoch 00008: val_loss improved from 0.20666 to 0.20238, saving model to C:\\Users\\awadh\\mycnn_models\\model_checkpoint_Adam.h5\n",
      "Epoch 9/20\n",
      "19/19 [==============================] - 7s 394ms/step - loss: 0.0737 - accuracy: 0.9802 - val_loss: 0.2103 - val_accuracy: 0.9500\n",
      "\n",
      "Epoch 00009: val_loss did not improve from 0.20238\n",
      "Epoch 10/20\n",
      "19/19 [==============================] - 7s 394ms/step - loss: 0.0426 - accuracy: 0.9968 - val_loss: 0.1824 - val_accuracy: 0.9500\n",
      "\n",
      "Epoch 00010: val_loss improved from 0.20238 to 0.18239, saving model to C:\\Users\\awadh\\mycnn_models\\model_checkpoint_Adam.h5\n",
      "Epoch 11/20\n",
      "19/19 [==============================] - 7s 392ms/step - loss: 0.0275 - accuracy: 0.9984 - val_loss: 0.1812 - val_accuracy: 0.9500\n",
      "\n",
      "Epoch 00011: val_loss improved from 0.18239 to 0.18116, saving model to C:\\Users\\awadh\\mycnn_models\\model_checkpoint_Adam.h5\n",
      "Epoch 12/20\n",
      "19/19 [==============================] - 8s 396ms/step - loss: 0.0209 - accuracy: 0.9976 - val_loss: 0.2122 - val_accuracy: 0.9250\n",
      "\n",
      "Epoch 00012: val_loss did not improve from 0.18116\n",
      "Epoch 13/20\n",
      "19/19 [==============================] - 7s 389ms/step - loss: 0.0127 - accuracy: 1.0000 - val_loss: 0.1683 - val_accuracy: 0.9250\n",
      "\n",
      "Epoch 00013: val_loss improved from 0.18116 to 0.16828, saving model to C:\\Users\\awadh\\mycnn_models\\model_checkpoint_Adam.h5\n",
      "Epoch 14/20\n",
      "19/19 [==============================] - 7s 393ms/step - loss: 0.0086 - accuracy: 1.0000 - val_loss: 0.1934 - val_accuracy: 0.9250\n",
      "\n",
      "Epoch 00014: val_loss did not improve from 0.16828\n",
      "Epoch 15/20\n",
      "19/19 [==============================] - 8s 396ms/step - loss: 0.0082 - accuracy: 0.9992 - val_loss: 0.1948 - val_accuracy: 0.9250\n",
      "\n",
      "Epoch 00015: val_loss did not improve from 0.16828\n",
      "Epoch 16/20\n",
      "19/19 [==============================] - 8s 428ms/step - loss: 0.0078 - accuracy: 1.0000 - val_loss: 0.1936 - val_accuracy: 0.9250\n",
      "Restoring model weights from the end of the best epoch\n",
      "\n",
      "Epoch 00016: val_loss did not improve from 0.16828\n",
      "Epoch 00016: early stopping\n"
     ]
    }
   ],
   "source": [
    "# fit model\n",
    "history = model.fit_generator(train_it, steps_per_epoch=len(train_it),\n",
    "validation_data=test_it, validation_steps=len(test_it), epochs=20, verbose=1,callbacks=callbacks)"
   ]
  },
  {
   "cell_type": "code",
   "execution_count": 11,
   "metadata": {
    "colab": {
     "base_uri": "https://localhost:8080/",
     "height": 34
    },
    "colab_type": "code",
    "id": "6J0XErWCWpp9",
    "outputId": "1333a958-0d6f-4932-e9d4-7abece5bd414"
   },
   "outputs": [
    {
     "name": "stdout",
     "output_type": "stream",
     "text": [
      "> 92.500\n"
     ]
    }
   ],
   "source": [
    "# evaluate model\n",
    "_, acc = model.evaluate_generator(test_it, steps=len(test_it), verbose=0)\n",
    "print('> %.3f' % (acc * 100.0))\n",
    "# learning curves\n",
    "summarize_diagnostics(history)"
   ]
  },
  {
   "cell_type": "markdown",
   "metadata": {
    "colab_type": "text",
    "id": "7ON1VfKxgGiK"
   },
   "source": [
    "**Load Image for Validation**"
   ]
  },
  {
   "cell_type": "code",
   "execution_count": 15,
   "metadata": {
    "colab": {},
    "colab_type": "code",
    "id": "XrtWC4l2W0GJ"
   },
   "outputs": [],
   "source": [
    "import keras\n",
    "from keras.models import load_model\n",
    "from keras.preprocessing import image\n",
    "import numpy as np\n",
    "image = image.load_img(r'C:\\Users\\awadh\\fk_clothes_data\\validate_clothes/tr4.jpeg', target_size=(64, 64))\n",
    "input_arr = keras.preprocessing.image.img_to_array(image)\n",
    "#x = np.expand_dims(input_arr, axis=0)   ## Convert single image to a batch.\n",
    "input_arr = np.array([input_arr])        ## Convert single image to a batch.\n",
    "#predictions = model.predict(input_arr)"
   ]
  },
  {
   "cell_type": "markdown",
   "metadata": {
    "colab_type": "text",
    "id": "-olTT5k-gW9K"
   },
   "source": [
    "**Prediction**"
   ]
  },
  {
   "cell_type": "code",
   "execution_count": 16,
   "metadata": {
    "colab": {},
    "colab_type": "code",
    "id": "ru-KQUWQX_rA"
   },
   "outputs": [],
   "source": [
    "from keras.preprocessing.image import load_img\n",
    "from keras.preprocessing.image import img_to_array\n",
    "# load model\n",
    "#model = load_model('my_flower_classi_model')\n",
    "#predictions_classes = model.predict_classes(input_arr)\n",
    "\n",
    "predictions_classes = model.predict_classes(input_arr)\n",
    "\n",
    "def predict_img():\n",
    "  if predictions_classes ==0:\n",
    "    print(\"Class {} means it is a 'Jeans Image'\".format(predictions_classes))\n",
    "  if predictions_classes ==1:\n",
    "    print(\"Class {} means it is a 'Trouser Image'\".format(predictions_classes))"
   ]
  },
  {
   "cell_type": "code",
   "execution_count": 17,
   "metadata": {
    "colab": {
     "base_uri": "https://localhost:8080/",
     "height": 81
    },
    "colab_type": "code",
    "id": "mysYGPRYYNW2",
    "outputId": "7fe171ad-fefc-4195-b5d2-6741e1cde383"
   },
   "outputs": [
    {
     "data": {
      "image/png": "[encoded data removed]",
      "text/plain": [
       "<PIL.Image.Image image mode=RGB size=64x64 at 0x248F1EEC308>"
      ]
     },
     "execution_count": 17,
     "metadata": {},
     "output_type": "execute_result"
    }
   ],
   "source": [
    "image"
   ]
  },
  {
   "cell_type": "code",
   "execution_count": 18,
   "metadata": {
    "colab": {
     "base_uri": "https://localhost:8080/",
     "height": 34
    },
    "colab_type": "code",
    "id": "gsGI9J0tYQcn",
    "outputId": "097833cd-5d4c-4434-d58f-3c46f3be883b"
   },
   "outputs": [
    {
     "name": "stdout",
     "output_type": "stream",
     "text": [
      "Class [[1]] means it is a 'Trouser Image'\n"
     ]
    }
   ],
   "source": [
    "predict_img()"
   ]
  },
  {
   "cell_type": "code",
   "execution_count": null,
   "metadata": {
    "colab": {},
    "colab_type": "code",
    "id": "gTcSAF3lfqMI"
   },
   "outputs": [],
   "source": []
  }
 ],
 "metadata": {
  "accelerator": "GPU",
  "colab": {
   "collapsed_sections": [],
   "name": "CNN_Clothes_Classi_Augu_Optimizers.ipynb",
   "provenance": []
  },
  "kernelspec": {
   "display_name": "Python 3",
   "language": "python",
   "name": "python3"
  },
  "language_info": {
   "codemirror_mode": {
    "name": "ipython",
    "version": 3
   },
   "file_extension": ".py",
   "mimetype": "text/x-python",
   "name": "python",
   "nbconvert_exporter": "python",
   "pygments_lexer": "ipython3",
   "version": "3.7.6"
  }
 },
 "nbformat": 4,
 "nbformat_minor": 1
}
